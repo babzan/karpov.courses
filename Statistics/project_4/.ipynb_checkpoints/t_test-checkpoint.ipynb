{
 "cells": [
  {
   "cell_type": "code",
   "execution_count": 47,
   "id": "fd051b11",
   "metadata": {},
   "outputs": [],
   "source": [
    "import numpy as np\n",
    "import pandas as pd\n",
    "import scipy.stats as t\n",
    "import seaborn as sns\n",
    "\n",
    "%matplotlib inline"
   ]
  },
  {
   "cell_type": "code",
   "execution_count": 48,
   "id": "23f0f244",
   "metadata": {},
   "outputs": [],
   "source": [
    "df = pd.read_csv('experiment_lesson_4.csv')"
   ]
  },
  {
   "cell_type": "markdown",
   "id": "8832bf66",
   "metadata": {},
   "source": [
    "### Task 2"
   ]
  },
  {
   "cell_type": "markdown",
   "id": "1abe719f",
   "metadata": {},
   "source": [
    "Сопоставьте графики распределения и  экспериментальные группы:"
   ]
  },
  {
   "cell_type": "code",
   "execution_count": 73,
   "id": "acca28e4",
   "metadata": {},
   "outputs": [],
   "source": [
    "df_control = df.query('experiment_group == \"control\"')\n",
    "df_test = df.query('experiment_group == \"test\"')"
   ]
  },
  {
   "cell_type": "code",
   "execution_count": 74,
   "id": "dfa63492",
   "metadata": {},
   "outputs": [],
   "source": [
    "df_control_grouped = df_control.groupby('district', as_index=False)\n",
    "df_test_grouped = df_test.groupby('district', as_index=False)"
   ]
  },
  {
   "cell_type": "code",
   "execution_count": 75,
   "id": "b3c44f76",
   "metadata": {},
   "outputs": [],
   "source": [
    "### Needs upgrade\n",
    "\n",
    "# df_control_grouped.hist()\n",
    "# df_test_grouped.hist()"
   ]
  },
  {
   "cell_type": "markdown",
   "id": "9311d50d",
   "metadata": {},
   "source": [
    "### Task 3"
   ]
  },
  {
   "cell_type": "markdown",
   "id": "fc7cf4f0",
   "metadata": {},
   "source": [
    "Посчитайте количество наблюдений в тестовой и контрольной группе. На сколько по модулю отличается количество наблюдений в тесте и контроле?"
   ]
  },
  {
   "cell_type": "code",
   "execution_count": 52,
   "id": "d4d7a6e7",
   "metadata": {},
   "outputs": [
    {
     "data": {
      "text/plain": [
       "12"
      ]
     },
     "execution_count": 52,
     "metadata": {},
     "output_type": "execute_result"
    }
   ],
   "source": [
    "abs(df_control.shape[0] - df_test.shape[0])"
   ]
  },
  {
   "cell_type": "markdown",
   "id": "c1936ff5",
   "metadata": {},
   "source": [
    "### Task 4"
   ]
  },
  {
   "cell_type": "markdown",
   "id": "e9fb93dc",
   "metadata": {},
   "source": [
    "Теперь давайте изучим наши распределения. Проверим выполнение условий на нормальность и посчитаем стандартное отклонение в тесте и в контроле."
   ]
  },
  {
   "cell_type": "code",
   "execution_count": null,
   "id": "7cddae60",
   "metadata": {},
   "outputs": [],
   "source": []
  },
  {
   "cell_type": "code",
   "execution_count": 53,
   "id": "c0384246",
   "metadata": {},
   "outputs": [
    {
     "name": "stderr",
     "output_type": "stream",
     "text": [
      "/opt/anaconda3/lib/python3.8/site-packages/scipy/stats/morestats.py:1681: UserWarning: p-value may not be accurate for N > 5000.\n",
      "  warnings.warn(\"p-value may not be accurate for N > 5000.\")\n"
     ]
    },
    {
     "data": {
      "text/plain": [
       "ShapiroResult(statistic=0.9986444711685181, pvalue=1.3960703881821246e-07)"
      ]
     },
     "execution_count": 53,
     "metadata": {},
     "output_type": "execute_result"
    }
   ],
   "source": [
    "t.shapiro(df_test['delivery_time'])"
   ]
  },
  {
   "cell_type": "code",
   "execution_count": 54,
   "id": "10a295ad",
   "metadata": {},
   "outputs": [
    {
     "data": {
      "text/plain": [
       "ShapiroResult(statistic=0.9987275004386902, pvalue=3.4373641710772063e-07)"
      ]
     },
     "execution_count": 54,
     "metadata": {},
     "output_type": "execute_result"
    }
   ],
   "source": [
    "t.shapiro(df_control['delivery_time'])"
   ]
  },
  {
   "cell_type": "code",
   "execution_count": 55,
   "id": "71fb506d",
   "metadata": {},
   "outputs": [
    {
     "name": "stdout",
     "output_type": "stream",
     "text": [
      "9.882819260031312\n",
      "9.989522000653128\n"
     ]
    }
   ],
   "source": [
    "print(np.std(df_test['delivery_time']))\n",
    "print(np.std(df_control['delivery_time']))"
   ]
  },
  {
   "cell_type": "markdown",
   "id": "f8679577",
   "metadata": {},
   "source": [
    "Answer:\n",
    "\n",
    "Для того, чтобы проверить нормальность распределения, я использую \n",
    "SHAPIRO-WILK TEST. Этот тест показывает, что значения в тестовой группе распределены НОРМАЛЬНО. В контрольной группе распределение является НОРМАЛЬНЫМ. Стандартное отклонение времени доставки в тесте равно 9.88. Стандартное отклонение времени доставки в контроле равно (округлите до сотых) 9.99"
   ]
  },
  {
   "cell_type": "markdown",
   "id": "2168ecba",
   "metadata": {},
   "source": [
    "### Task 5"
   ]
  },
  {
   "cell_type": "markdown",
   "id": "8283422c",
   "metadata": {},
   "source": [
    "Пришло время сравнить средние в тесте и контроле."
   ]
  },
  {
   "cell_type": "code",
   "execution_count": 76,
   "id": "f60c7b12",
   "metadata": {},
   "outputs": [
    {
     "name": "stdout",
     "output_type": "stream",
     "text": [
      "Ttest_indResult(statistic=-43.03582663183714, pvalue=0.0)\n"
     ]
    }
   ],
   "source": [
    "print(t.ttest_ind(df_test['delivery_time'], df_control['delivery_time']))"
   ]
  },
  {
   "cell_type": "markdown",
   "id": "435044a4",
   "metadata": {},
   "source": [
    "Answer:\n",
    "\n",
    "Для сравнения средних в данных экспериментальных группах я использую STUDENT'S T-TEST. Статистика в тесте равна -43, p-value <= 0.05"
   ]
  },
  {
   "cell_type": "markdown",
   "id": "0dd4779c",
   "metadata": {},
   "source": [
    "### Task 6"
   ]
  },
  {
   "cell_type": "markdown",
   "id": "2e8c4558",
   "metadata": {},
   "source": [
    "На сколько процентов изменилось среднее время доставки в тестовой группе по сравнению с контрольной (округлите до сотых)?"
   ]
  },
  {
   "cell_type": "code",
   "execution_count": 78,
   "id": "1b9de166",
   "metadata": {},
   "outputs": [
    {
     "name": "stdout",
     "output_type": "stream",
     "text": [
      "Answer: -13.35\n"
     ]
    }
   ],
   "source": [
    "df_control = df[df['experiment_group'] == 'control']\n",
    "df_test = df[df['experiment_group'] == 'test']\n",
    "\n",
    "control_mean = np.mean(df_control.delivery_time)\n",
    "test_mean = np.mean(df_test.delivery_time)\n",
    "\n",
    "print('Answer:', round((test_mean - control_mean) / control_mean * 100, 2))"
   ]
  }
 ],
 "metadata": {
  "kernelspec": {
   "display_name": "Python 3",
   "language": "python",
   "name": "python3"
  },
  "language_info": {
   "codemirror_mode": {
    "name": "ipython",
    "version": 3
   },
   "file_extension": ".py",
   "mimetype": "text/x-python",
   "name": "python",
   "nbconvert_exporter": "python",
   "pygments_lexer": "ipython3",
   "version": "3.8.8"
  }
 },
 "nbformat": 4,
 "nbformat_minor": 5
}
