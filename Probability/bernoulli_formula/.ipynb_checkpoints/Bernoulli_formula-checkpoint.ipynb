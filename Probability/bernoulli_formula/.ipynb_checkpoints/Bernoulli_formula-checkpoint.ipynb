{
 "cells": [
  {
   "cell_type": "code",
   "execution_count": 1,
   "id": "fad06dc6",
   "metadata": {},
   "outputs": [],
   "source": [
    "from scipy import special\n",
    "from math import factorial\n",
    "\n",
    "# def num_of_successes(n, k):\n",
    "#     return factorial(n)/(factorial(k) * factorial(n - k))\n"
   ]
  },
  {
   "cell_type": "markdown",
   "id": "9cc00f02",
   "metadata": {},
   "source": [
    "### Задание 1"
   ]
  },
  {
   "cell_type": "markdown",
   "id": "8550886b",
   "metadata": {},
   "source": [
    "Устройство, состоящее из пяти независимо работающих элементов, включается за время Т. Вероятность отказа каждого из них за это время равна 0,4. Найти вероятность того, что откажут три элемента. Ответ округлите до четырёх знаков после запятой. В качестве десятичного разделителя используйте точку."
   ]
  },
  {
   "cell_type": "code",
   "execution_count": 18,
   "id": "d42929e3",
   "metadata": {},
   "outputs": [],
   "source": [
    "n = 5\n",
    "k = 3\n",
    "p = 0.4\n",
    "q = 0.6 # (1 - p)\n",
    "\n",
    "C_nk = special.comb(n, k)"
   ]
  },
  {
   "cell_type": "code",
   "execution_count": 19,
   "id": "04fe661e",
   "metadata": {},
   "outputs": [],
   "source": [
    "Prob_1 = (p ** k) * (q ** (n - k)) * C_nk"
   ]
  },
  {
   "cell_type": "code",
   "execution_count": 20,
   "id": "6145206e",
   "metadata": {},
   "outputs": [
    {
     "name": "stdout",
     "output_type": "stream",
     "text": [
      "Answer: 0.2304\n"
     ]
    }
   ],
   "source": [
    "print(\"Answer:\", round(Prob_1, 4))"
   ]
  },
  {
   "cell_type": "markdown",
   "id": "3b26f940",
   "metadata": {},
   "source": [
    "### Задание 2"
   ]
  },
  {
   "cell_type": "markdown",
   "id": "7766c945",
   "metadata": {},
   "source": [
    "Устройство, состоящее из пяти независимо работающих элементов, включается за время Т. Вероятность отказа каждого из них за это время равна 0,4. Найдите вероятность того, что хотя бы один элемент откажет. Ответ округлите до трёх знаков после запятой. В качестве десятичного разделителя используйте точку."
   ]
  },
  {
   "cell_type": "code",
   "execution_count": 25,
   "id": "69b535ea",
   "metadata": {},
   "outputs": [
    {
     "name": "stdout",
     "output_type": "stream",
     "text": [
      "Answer: 0.922\n"
     ]
    }
   ],
   "source": [
    "n = 5\n",
    "k = 0\n",
    "p = 0.4\n",
    "q = 1 - p\n",
    "\n",
    "C_nk = special.comb(n, k)\n",
    "Prob_2 = (p ** k) * (q ** (n - k)) * C_nk\n",
    "print(\"Answer:\", 1 - round(Prob_2, 3))"
   ]
  },
  {
   "cell_type": "markdown",
   "id": "bde2887d",
   "metadata": {},
   "source": [
    "### Задание 3"
   ]
  },
  {
   "cell_type": "markdown",
   "id": "71130658",
   "metadata": {},
   "source": [
    "Производится 8 выстрелов по цели, в каждом из которых вероятность попадания равна 0,3. Найти вероятность того, что цель будет поражена хотя бы два раза. Ответ округлите до тысячных. В качестве десятичного разделителя используйте точку."
   ]
  },
  {
   "cell_type": "code",
   "execution_count": 34,
   "id": "bc2b73da",
   "metadata": {},
   "outputs": [
    {
     "name": "stdout",
     "output_type": "stream",
     "text": [
      "Answer: 0.745\n"
     ]
    }
   ],
   "source": [
    "n = 8\n",
    "k_one_shot = 1\n",
    "k_zero_shot = 0\n",
    "p = 0.3\n",
    "q = 1 - p\n",
    "\n",
    "C_nk = special.comb(n, k_one_shot)\n",
    "C_nk_zero = special.comb(n, k_zero_shot)\n",
    "Prob_3 =    ((p ** k_one_shot) * (q ** (n - k_one_shot)) * C_nk)\\\n",
    "            + ((p ** k_zero_shot) * (q ** (n - k_zero_shot)) * C_nk_zero)\n",
    "print(\"Answer:\", 1 - round(Prob_3, 3))"
   ]
  },
  {
   "cell_type": "markdown",
   "id": "143a6aa8",
   "metadata": {},
   "source": [
    "### Задание 4"
   ]
  },
  {
   "cell_type": "markdown",
   "id": "c93596a3",
   "metadata": {},
   "source": [
    "В магазине 7 покупателей. Каждый может совершить покупку с вероятностью 0,4. Найти вероятность того, что не более двух человек совершат покупку. Ответ округлите до сотых. В качестве десятичного разделителя используйте точку."
   ]
  },
  {
   "cell_type": "code",
   "execution_count": 41,
   "id": "f6ad1265",
   "metadata": {},
   "outputs": [
    {
     "name": "stdout",
     "output_type": "stream",
     "text": [
      "Answer: 0.42\n"
     ]
    }
   ],
   "source": [
    "n = 7\n",
    "k = 0\n",
    "k_1 = 1\n",
    "k_2 = 2\n",
    "p = 0.4\n",
    "q = 1 - p\n",
    "\n",
    "C_nk = special.comb(n, k)\n",
    "C_nk_1 = special.comb(n, k_1)\n",
    "C_nk_2 = special.comb(n, k_2)\n",
    "Prob_4 = (p ** k) * (q ** (n - k)) * C_nk +\\\n",
    "            ((p ** k_1) * (q ** (n - k_1)) * C_nk_1) +\\\n",
    "            ((p ** k_2) * (q ** (n - k_2)) * C_nk_2)\n",
    "print(\"Answer:\", round(Prob_4, 2))"
   ]
  },
  {
   "cell_type": "markdown",
   "id": "18485a68",
   "metadata": {},
   "source": [
    "### Задание 5"
   ]
  },
  {
   "cell_type": "markdown",
   "id": "dafaab75",
   "metadata": {},
   "source": [
    "В телеателье имеется 7 телевизоров. Для каждого телевизора вероятность того, что в данный момент он включен, равна 0,5. Найти вероятность того, что в данный момент включены не менее трех телевизоров. Ответ округлите до тысячных. В качестве десятичного разделителя используйте точку."
   ]
  },
  {
   "cell_type": "code",
   "execution_count": 43,
   "id": "569689e6",
   "metadata": {},
   "outputs": [
    {
     "name": "stdout",
     "output_type": "stream",
     "text": [
      "Answer: 0.773\n"
     ]
    }
   ],
   "source": [
    "n = 7\n",
    "k = 0\n",
    "k_1 = 1\n",
    "k_2 = 2\n",
    "p = 0.5\n",
    "q = 1 - p\n",
    "\n",
    "C_nk = special.comb(n, k)\n",
    "C_nk_1 = special.comb(n, k_1)\n",
    "C_nk_2 = special.comb(n, k_2)\n",
    "Prob_5 = (p ** k) * (q ** (n - k)) * C_nk +\\\n",
    "            ((p ** k_1) * (q ** (n - k_1)) * C_nk_1) +\\\n",
    "            ((p ** k_2) * (q ** (n - k_2)) * C_nk_2)\n",
    "print(\"Answer:\", 1 - round(Prob_5, 3))"
   ]
  },
  {
   "cell_type": "markdown",
   "id": "0ddfc220",
   "metadata": {},
   "source": [
    "### Задание 6"
   ]
  },
  {
   "cell_type": "markdown",
   "id": "fbd43846",
   "metadata": {},
   "source": [
    "Пусть вероятность того, что покупателю необходим компьютер с операционной системой Linux, равна 0.25. Найдите вероятность того, что из шести покупателей по крайней мере двум необходим компьютер с операционной системой Linux.\n",
    "\n",
    "Ответ округлите до сотых, в качестве разделителя используйте точку."
   ]
  },
  {
   "cell_type": "code",
   "execution_count": 55,
   "id": "0c2771c1",
   "metadata": {},
   "outputs": [
    {
     "name": "stdout",
     "output_type": "stream",
     "text": [
      "Answer: 0.47\n"
     ]
    }
   ],
   "source": [
    "n = 6\n",
    "k = 0\n",
    "k_1 = 1\n",
    "p = 0.25\n",
    "q = 1 - p\n",
    "\n",
    "C_nk = special.comb(n, k)\n",
    "C_nk_1 = special.comb(n, k_1)\n",
    "C_nk_2 = special.comb(n, k_2)\n",
    "Prob_6 = (p ** k) * (q ** (n - k)) * C_nk +\\\n",
    "            ((p ** k_1) * (q ** (n - k_1)) * C_nk_1)\n",
    "print(\"Answer:\", 1 - round(Prob_6, 2))"
   ]
  },
  {
   "cell_type": "markdown",
   "id": "2c209693",
   "metadata": {},
   "source": [
    "### Задание 7"
   ]
  },
  {
   "cell_type": "markdown",
   "id": "45f0b8b9",
   "metadata": {},
   "source": [
    "Для нормальной работы отдела по дата-аналитике необходимо, чтобы в офисе было не менее восьми программистов, а всего в штате 10 программистов. Вероятность того, что программист заболеет, равна 0.1. Найдите вероятность нормальной работы отдела по дата-аналитике.\n",
    "\n",
    "Ответ округлите до сотых, а в качестве разделителя используйте точку."
   ]
  },
  {
   "cell_type": "code",
   "execution_count": 92,
   "id": "cc875aed",
   "metadata": {},
   "outputs": [],
   "source": [
    "n_1 = 10\n",
    "k = 0\n",
    "k_1 = 1\n",
    "k_2 = 2\n",
    "\n",
    "p = 0.1\n",
    "q = 1 - p"
   ]
  },
  {
   "cell_type": "code",
   "execution_count": 93,
   "id": "5b08568b",
   "metadata": {},
   "outputs": [
    {
     "name": "stdout",
     "output_type": "stream",
     "text": [
      "Answer: 0.1963378209363376\n"
     ]
    }
   ],
   "source": [
    "C_nk = special.comb(n_1, k)\n",
    "C_nk_1 = special.comb(n_1, k_1)\n",
    "C_nk_2 = special.comb(n_1, k_2)\n",
    "\n",
    "Proba_7 = ((p ** k) * (q ** (n_1 - k)) * C_nk) + \\\n",
    "            ((p ** k_1) * (q ** (n_1 - k_1)) * C_nk_1) + \\\n",
    "            ((p ** k_2) * (q ** (n_1 - k_2)) * C_nk_2)\n",
    "\n",
    "print(\"Answer:\", Prob_7)"
   ]
  },
  {
   "cell_type": "markdown",
   "id": "2eb8ee96",
   "metadata": {},
   "source": [
    "### Задание 8"
   ]
  },
  {
   "cell_type": "markdown",
   "id": "badb9dcf",
   "metadata": {},
   "source": [
    "Среди всех скриптов, которые пишет программист, с 10%-ой вероятностью скрипт будет с ошибкой. Найдем вероятность того, что среди 30 скриптов два не будут работать.\n",
    "\n",
    "Ответ округлите до тысячных, в качестве десятичного разделителя используйте точку."
   ]
  },
  {
   "cell_type": "code",
   "execution_count": 68,
   "id": "f92cc997",
   "metadata": {},
   "outputs": [
    {
     "name": "stdout",
     "output_type": "stream",
     "text": [
      "Answer: 0.228\n"
     ]
    }
   ],
   "source": [
    "n = 30\n",
    "k = 2\n",
    "p = 0.1\n",
    "q = 1 - p\n",
    "\n",
    "C_nk = special.comb(n, k)\n",
    "\n",
    "Prob_8 = ((p ** k) * (q ** (n - k)) * C_nk)\n",
    "print(\"Answer:\", round(Prob_8, 3))"
   ]
  },
  {
   "cell_type": "markdown",
   "id": "66d10112",
   "metadata": {},
   "source": [
    "### Задание 9"
   ]
  },
  {
   "cell_type": "markdown",
   "id": "a7f7a04d",
   "metadata": {},
   "source": [
    "В очень большом чате по дата аналитике сидит 1730 человек. Вероятность того, что день рождения наугад взятого участника чата приходится на определенный день года, равна 1/365 для каждого из 365 дней. Найдем наиболее вероятное число счастливчиков, которые родились 1 марта.\n",
    "\n",
    "Для решения может понадобиться эта формула:\n",
    "\n",
    "Биномиальное распределение (распределение по схеме Бернулли) позволяет, в частности, установить, какое число появлений события А наиболее вероятно. Формула для наиболее вероятного числа успехов k (появлений события) имеет вид:\n",
    "\n",
    "$$np−q≤k≤np+p,q=1−p$$\n",
    "Так как $$np−q=np+p−1$$, то эти границы отличаются на 1. Поэтому k, являющееся целым числом, может принимать либо одно значение, когда np целое число (k=np) , то есть когда np+p (а отсюда и np−q) нецелое число, либо два значения, когда np−q целое число."
   ]
  },
  {
   "cell_type": "code",
   "execution_count": 72,
   "id": "ea327420",
   "metadata": {},
   "outputs": [
    {
     "name": "stdout",
     "output_type": "stream",
     "text": [
      "Borders: 3.742465753424658 4.742465753424658\n",
      "Answer: 4\n"
     ]
    }
   ],
   "source": [
    "n = 1730\n",
    "p = 1 / 365\n",
    "q = 1 - p\n",
    "k_1 = n * p + p\n",
    "k_2 = n * p - q\n",
    "print(\"Borders:\", k_2, k_1)\n",
    "print(\"Answer:\", 4)"
   ]
  },
  {
   "cell_type": "markdown",
   "id": "8ffe104c",
   "metadata": {},
   "source": [
    "Исходя из вышеприведенной формулы мы можем сделать вывод, что между данными числами единственное целое число - 4.\n",
    "\n",
    "Ответ: 4\n"
   ]
  },
  {
   "cell_type": "markdown",
   "id": "44caccdc",
   "metadata": {},
   "source": [
    "### Задание 10"
   ]
  },
  {
   "cell_type": "markdown",
   "id": "474e4c15",
   "metadata": {},
   "source": [
    "В урне 20 шаров: 15 белых и 5 чёрных. Вынули подряд 5 шаров, причём каждый вынутый шар возвращается в урну и перед извлечением следующего шары в урне тщательно перемешиваются. Найдите вероятность того, что из пяти вынутых шаров будет 2 белых.\n",
    "\n",
    "Ответ округлите до тысячных, в качестве десятичного разделителя используйте точку."
   ]
  },
  {
   "cell_type": "code",
   "execution_count": 76,
   "id": "4bf7d369",
   "metadata": {},
   "outputs": [
    {
     "name": "stdout",
     "output_type": "stream",
     "text": [
      "Answer: 0.088\n"
     ]
    }
   ],
   "source": [
    "n = 5\n",
    "k = 2\n",
    "p = 0.75\n",
    "q = 0.25\n",
    "\n",
    "C_nk = special.comb(n, k)\n",
    "Proba_10 = ((p ** k) * (q ** (n - k)) * C_nk)\n",
    "print(\"Answer:\", round(Proba_10, 3))"
   ]
  },
  {
   "cell_type": "code",
   "execution_count": null,
   "id": "7856f2d9",
   "metadata": {},
   "outputs": [],
   "source": []
  },
  {
   "cell_type": "code",
   "execution_count": null,
   "id": "dd4308ee",
   "metadata": {},
   "outputs": [],
   "source": []
  },
  {
   "cell_type": "code",
   "execution_count": null,
   "id": "d3d532c3",
   "metadata": {},
   "outputs": [],
   "source": []
  }
 ],
 "metadata": {
  "kernelspec": {
   "display_name": "Python 3",
   "language": "python",
   "name": "python3"
  },
  "language_info": {
   "codemirror_mode": {
    "name": "ipython",
    "version": 3
   },
   "file_extension": ".py",
   "mimetype": "text/x-python",
   "name": "python",
   "nbconvert_exporter": "python",
   "pygments_lexer": "ipython3",
   "version": "3.8.8"
  }
 },
 "nbformat": 4,
 "nbformat_minor": 5
}
