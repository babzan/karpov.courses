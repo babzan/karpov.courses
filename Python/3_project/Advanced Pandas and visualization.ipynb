{
 "cells": [
  {
   "cell_type": "markdown",
   "id": "a3413204",
   "metadata": {},
   "source": [
    "### Import and look at the basic information"
   ]
  },
  {
   "cell_type": "code",
   "execution_count": 101,
   "id": "0fe76008",
   "metadata": {},
   "outputs": [],
   "source": [
    "import pandas as pd"
   ]
  },
  {
   "cell_type": "code",
   "execution_count": 102,
   "id": "9a19d094",
   "metadata": {},
   "outputs": [],
   "source": [
    "user_data = pd.read_csv('3_user_data.csv')\n",
    "user_logs = pd.read_csv('3_logs.csv')"
   ]
  },
  {
   "cell_type": "code",
   "execution_count": 103,
   "id": "140ac533",
   "metadata": {},
   "outputs": [
    {
     "name": "stdout",
     "output_type": "stream",
     "text": [
      "(2954, 3)\n",
      "(4500, 4)\n"
     ]
    }
   ],
   "source": [
    "print(user_data.shape)\n",
    "print(user_logs.shape)"
   ]
  },
  {
   "cell_type": "code",
   "execution_count": 108,
   "id": "b231ee98",
   "metadata": {},
   "outputs": [],
   "source": [
    "user_data_info = user_data.describe"
   ]
  },
  {
   "cell_type": "code",
   "execution_count": 109,
   "id": "b2eda0b3",
   "metadata": {},
   "outputs": [],
   "source": [
    "user_logs_info = user_logs.describe"
   ]
  },
  {
   "cell_type": "markdown",
   "id": "84e42fa7",
   "metadata": {},
   "source": [
    "How many unique platforms we have?"
   ]
  },
  {
   "cell_type": "code",
   "execution_count": 110,
   "id": "3f7b5a6e",
   "metadata": {},
   "outputs": [
    {
     "name": "stdout",
     "output_type": "stream",
     "text": [
      "3\n"
     ]
    }
   ],
   "source": [
    "unique_platforms = user_logs['platform'].nunique()\n",
    "print(unique_platforms)"
   ]
  },
  {
   "cell_type": "markdown",
   "id": "d8f40256",
   "metadata": {},
   "source": [
    "How many clients have a success?"
   ]
  },
  {
   "cell_type": "code",
   "execution_count": 124,
   "id": "a830536f",
   "metadata": {},
   "outputs": [],
   "source": [
    "success_operations = user_logs.query('success == True').groupby('client', as_index=False).agg({'success' : 'sum'})"
   ]
  },
  {
   "cell_type": "code",
   "execution_count": 132,
   "id": "812126c3",
   "metadata": {},
   "outputs": [],
   "source": [
    "max_count_success = max(success_operations[\"success\"])\n",
    "number_of_success_per_client = success_operations.sort_values(['success', 'client'], ascending=False)"
   ]
  },
  {
   "cell_type": "code",
   "execution_count": 140,
   "id": "096291bd",
   "metadata": {},
   "outputs": [],
   "source": [
    "# Add to list this clients\n",
    "\n",
    "lst = []\n",
    "for i in range(len(number_of_success_per_client)):\n",
    "    if number_of_success_per_client['success'][i] == max(number_of_success_per_client['success']):\n",
    "        lst.append(number_of_success_per_client['client'][i])\n",
    "\n",
    "# print(lst)"
   ]
  },
  {
   "cell_type": "markdown",
   "id": "6a32558e",
   "metadata": {},
   "source": [
    "How many clients we have on each platform?"
   ]
  },
  {
   "cell_type": "code",
   "execution_count": 141,
   "id": "5e84be70",
   "metadata": {},
   "outputs": [
    {
     "data": {
      "text/html": [
       "<div>\n",
       "<style scoped>\n",
       "    .dataframe tbody tr th:only-of-type {\n",
       "        vertical-align: middle;\n",
       "    }\n",
       "\n",
       "    .dataframe tbody tr th {\n",
       "        vertical-align: top;\n",
       "    }\n",
       "\n",
       "    .dataframe thead th {\n",
       "        text-align: right;\n",
       "    }\n",
       "</style>\n",
       "<table border=\"1\" class=\"dataframe\">\n",
       "  <thead>\n",
       "    <tr style=\"text-align: right;\">\n",
       "      <th></th>\n",
       "      <th>platform</th>\n",
       "      <th>client</th>\n",
       "    </tr>\n",
       "  </thead>\n",
       "  <tbody>\n",
       "    <tr>\n",
       "      <th>2</th>\n",
       "      <td>tablet</td>\n",
       "      <td>242</td>\n",
       "    </tr>\n",
       "    <tr>\n",
       "      <th>1</th>\n",
       "      <td>phone</td>\n",
       "      <td>2753</td>\n",
       "    </tr>\n",
       "    <tr>\n",
       "      <th>0</th>\n",
       "      <td>computer</td>\n",
       "      <td>1505</td>\n",
       "    </tr>\n",
       "  </tbody>\n",
       "</table>\n",
       "</div>"
      ],
      "text/plain": [
       "   platform  client\n",
       "2    tablet     242\n",
       "1     phone    2753\n",
       "0  computer    1505"
      ]
     },
     "execution_count": 141,
     "metadata": {},
     "output_type": "execute_result"
    }
   ],
   "source": [
    "user_logs.groupby('platform', as_index=False).agg({'client' : 'count'})\\\n",
    "                                .sort_values('platform', ascending=False)"
   ]
  },
  {
   "cell_type": "markdown",
   "id": "f751c461",
   "metadata": {},
   "source": [
    "Merge our user_data and user_logs datasets into one full_data"
   ]
  },
  {
   "cell_type": "code",
   "execution_count": 142,
   "id": "f8d39b32",
   "metadata": {},
   "outputs": [],
   "source": [
    "full_data = user_logs.merge(user_data, how='inner', on='client')"
   ]
  },
  {
   "cell_type": "markdown",
   "id": "6b2b00f7",
   "metadata": {},
   "source": [
    "Which platforms use our premium users?"
   ]
  },
  {
   "cell_type": "code",
   "execution_count": 143,
   "id": "eb70e6de",
   "metadata": {},
   "outputs": [],
   "source": [
    "premium_users = full_data.query('premium == True').groupby('platform', as_index=False).agg({'client' : 'count'})"
   ]
  },
  {
   "cell_type": "code",
   "execution_count": 144,
   "id": "62656a37",
   "metadata": {},
   "outputs": [],
   "source": [
    "# premium_users"
   ]
  },
  {
   "cell_type": "markdown",
   "id": "ae4f9edd",
   "metadata": {},
   "source": [
    "### Import libs for visualizing"
   ]
  },
  {
   "cell_type": "code",
   "execution_count": 145,
   "id": "2523b1e5",
   "metadata": {},
   "outputs": [],
   "source": [
    "import seaborn as sns\n",
    "from matplotlib import pyplot as plt\n",
    "%matplotlib inline"
   ]
  },
  {
   "cell_type": "markdown",
   "id": "b64f075d",
   "metadata": {},
   "source": [
    "#### Visualize a distribution of dependecy premium users on their age."
   ]
  },
  {
   "cell_type": "code",
   "execution_count": 146,
   "id": "5535a1f2",
   "metadata": {},
   "outputs": [
    {
     "name": "stderr",
     "output_type": "stream",
     "text": [
      "/opt/anaconda3/lib/python3.8/site-packages/seaborn/distributions.py:2557: FutureWarning: `distplot` is a deprecated function and will be removed in a future version. Please adapt your code to use either `displot` (a figure-level function with similar flexibility) or `histplot` (an axes-level function for histograms).\n",
      "  warnings.warn(msg, FutureWarning)\n",
      "/opt/anaconda3/lib/python3.8/site-packages/seaborn/distributions.py:2557: FutureWarning: `distplot` is a deprecated function and will be removed in a future version. Please adapt your code to use either `displot` (a figure-level function with similar flexibility) or `histplot` (an axes-level function for histograms).\n",
      "  warnings.warn(msg, FutureWarning)\n"
     ]
    },
    {
     "data": {
      "text/plain": [
       "<AxesSubplot:xlabel='age', ylabel='Density'>"
      ]
     },
     "execution_count": 146,
     "metadata": {},
     "output_type": "execute_result"
    },
    {
     "data": {
      "image/png": "[encoded data removed]",
      "text/plain": [
       "<Figure size 432x288 with 1 Axes>"
      ]
     },
     "metadata": {
      "needs_background": "light"
     },
     "output_type": "display_data"
    }
   ],
   "source": [
    "sns.distplot(full_data.query('premium == True').age)\n",
    "sns.distplot(full_data.query('premium == False').age)"
   ]
  },
  {
   "cell_type": "markdown",
   "id": "96865f42",
   "metadata": {},
   "source": [
    "#### Visualize distribution of the number of successful operations"
   ]
  },
  {
   "cell_type": "code",
   "execution_count": 147,
   "id": "4f0f2e30",
   "metadata": {},
   "outputs": [
    {
     "name": "stderr",
     "output_type": "stream",
     "text": [
      "/opt/anaconda3/lib/python3.8/site-packages/seaborn/distributions.py:2557: FutureWarning: `distplot` is a deprecated function and will be removed in a future version. Please adapt your code to use either `displot` (a figure-level function with similar flexibility) or `histplot` (an axes-level function for histograms).\n",
      "  warnings.warn(msg, FutureWarning)\n"
     ]
    },
    {
     "data": {
      "text/plain": [
       "<AxesSubplot:xlabel='success', ylabel='Density'>"
      ]
     },
     "execution_count": 147,
     "metadata": {},
     "output_type": "execute_result"
    },
    {
     "data": {
      "image/png": "[encoded data removed]",
      "text/plain": [
       "<Figure size 432x288 with 1 Axes>"
      ]
     },
     "metadata": {
      "needs_background": "light"
     },
     "output_type": "display_data"
    }
   ],
   "source": [
    "x = full_data.query('success == True').groupby('client', as_index=False).agg({'success' : 'count'})\n",
    "sns.distplot(x.success)"
   ]
  },
  {
   "cell_type": "markdown",
   "id": "0e4d67a6",
   "metadata": {},
   "source": [
    "#### Visualize the number of successful operations made on the computer platform, depending on age\n",
    "\n",
    "Which age has a max number of success?"
   ]
  },
  {
   "cell_type": "code",
   "execution_count": 150,
   "id": "cfce9b72",
   "metadata": {},
   "outputs": [],
   "source": [
    "success_on_computer = full_data.query('platform == \"computer\" & success == True')\n",
    "# success_on_computer"
   ]
  },
  {
   "cell_type": "code",
   "execution_count": 151,
   "id": "4d37e1e1",
   "metadata": {},
   "outputs": [
    {
     "name": "stderr",
     "output_type": "stream",
     "text": [
      "/opt/anaconda3/lib/python3.8/site-packages/seaborn/_decorators.py:36: FutureWarning: Pass the following variable as a keyword arg: x. From version 0.12, the only valid positional argument will be `data`, and passing other arguments without an explicit keyword will result in an error or misinterpretation.\n",
      "  warnings.warn(\n"
     ]
    },
    {
     "data": {
      "text/plain": [
       "<AxesSubplot:xlabel='age', ylabel='count'>"
      ]
     },
     "execution_count": 151,
     "metadata": {},
     "output_type": "execute_result"
    },
    {
     "data": {
      "image/png": "[encoded data removed]",
      "text/plain": [
       "<Figure size 864x576 with 1 Axes>"
      ]
     },
     "metadata": {
      "needs_background": "light"
     },
     "output_type": "display_data"
    }
   ],
   "source": [
    "plt.figure(figsize=(12, 8))\n",
    "sns.countplot(success_on_computer['age'])"
   ]
  },
  {
   "cell_type": "code",
   "execution_count": null,
   "id": "629a1564",
   "metadata": {},
   "outputs": [],
   "source": []
  }
 ],
 "metadata": {
  "kernelspec": {
   "display_name": "Python 3",
   "language": "python",
   "name": "python3"
  },
  "language_info": {
   "codemirror_mode": {
    "name": "ipython",
    "version": 3
   },
   "file_extension": ".py",
   "mimetype": "text/x-python",
   "name": "python",
   "nbconvert_exporter": "python",
   "pygments_lexer": "ipython3",
   "version": "3.8.8"
  }
 },
 "nbformat": 4,
 "nbformat_minor": 5
}
