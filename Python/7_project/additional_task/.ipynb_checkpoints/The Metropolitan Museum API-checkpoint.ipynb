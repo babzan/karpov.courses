{
 "cells": [
  {
   "cell_type": "code",
   "execution_count": 22,
   "id": "9a6785df",
   "metadata": {},
   "outputs": [],
   "source": [
    "import requests\n",
    "import pandas as pd\n",
    "import seaborn as sns\n",
    "import matplotlib.pyplot as plt"
   ]
  },
  {
   "cell_type": "code",
   "execution_count": 25,
   "id": "d59574ea",
   "metadata": {},
   "outputs": [],
   "source": [
    "r = requests.get('https://collectionapi.metmuseum.org/public/collection/v1/search?q=sunflowers')\n",
    "res = r.json()"
   ]
  },
  {
   "cell_type": "code",
   "execution_count": null,
   "id": "d1a4fbbb",
   "metadata": {},
   "outputs": [],
   "source": []
  },
  {
   "cell_type": "code",
   "execution_count": 26,
   "id": "98ddc0fb",
   "metadata": {},
   "outputs": [],
   "source": [
    "r_test = requests.get(f'https://collectionapi.metmuseum.org/public/collection/v1/objects/437980')\n",
    "obj_test = r_test.json()"
   ]
  },
  {
   "cell_type": "code",
   "execution_count": 57,
   "id": "a8b6ded7",
   "metadata": {},
   "outputs": [],
   "source": [
    "data = pd.DataFrame()\n",
    "\n",
    "for i in res['objectIDs']:\n",
    "    request_object = requests.get(f'https://collectionapi.metmuseum.org/public/collection/v1/objects/{i}')\n",
    "    object_from_request = request_object.json()\n",
    "    try:\n",
    "        df =  pd.DataFrame({ 'objectID' : object_from_request['objectID'],\n",
    "                      'title' : object_from_request['title'],\n",
    "                      'artistDisplayName' : object_from_request['artistDisplayName'],\n",
    "                      'department' : object_from_request['department'],\n",
    "                      'objectBeginDate' : object_from_request['objectBeginDate'],\n",
    "                      'objectEndDate' : object_from_request['objectEndDate'],\n",
    "                      'period' : object_from_request['period'],\n",
    "                      'objectName' : object_from_request['objectName'],\n",
    "                      'culture' : object_from_request['culture']}, index=[0])\n",
    "        data = data.append(df)\n",
    "    except:\n",
    "        continue\n"
   ]
  },
  {
   "cell_type": "code",
   "execution_count": 45,
   "id": "c31746eb",
   "metadata": {},
   "outputs": [],
   "source": [
    "# obj_test"
   ]
  },
  {
   "cell_type": "code",
   "execution_count": 61,
   "id": "584c738b",
   "metadata": {},
   "outputs": [
    {
     "data": {
      "text/html": [
       "<div>\n",
       "<style scoped>\n",
       "    .dataframe tbody tr th:only-of-type {\n",
       "        vertical-align: middle;\n",
       "    }\n",
       "\n",
       "    .dataframe tbody tr th {\n",
       "        vertical-align: top;\n",
       "    }\n",
       "\n",
       "    .dataframe thead th {\n",
       "        text-align: right;\n",
       "    }\n",
       "</style>\n",
       "<table border=\"1\" class=\"dataframe\">\n",
       "  <thead>\n",
       "    <tr style=\"text-align: right;\">\n",
       "      <th></th>\n",
       "      <th>objectID</th>\n",
       "      <th>title</th>\n",
       "      <th>artistDisplayName</th>\n",
       "      <th>department</th>\n",
       "      <th>objectBeginDate</th>\n",
       "      <th>objectEndDate</th>\n",
       "      <th>period</th>\n",
       "      <th>objectName</th>\n",
       "      <th>culture</th>\n",
       "    </tr>\n",
       "  </thead>\n",
       "  <tbody>\n",
       "    <tr>\n",
       "      <th>0</th>\n",
       "      <td>57922</td>\n",
       "      <td>Incense box</td>\n",
       "      <td></td>\n",
       "      <td>Asian Art</td>\n",
       "      <td>1700</td>\n",
       "      <td>1799</td>\n",
       "      <td>Edo period (1615–1868)</td>\n",
       "      <td>Incense box</td>\n",
       "      <td>Japan</td>\n",
       "    </tr>\n",
       "  </tbody>\n",
       "</table>\n",
       "</div>"
      ],
      "text/plain": [
       "   objectID        title artistDisplayName department  objectBeginDate  \\\n",
       "0     57922  Incense box                    Asian Art             1700   \n",
       "\n",
       "   objectEndDate                  period   objectName culture  \n",
       "0           1799  Edo period (1615–1868)  Incense box   Japan  "
      ]
     },
     "execution_count": 61,
     "metadata": {},
     "output_type": "execute_result"
    }
   ],
   "source": [
    "data.query('culture == \"Japan\"')"
   ]
  },
  {
   "cell_type": "code",
   "execution_count": null,
   "id": "dccfcd83",
   "metadata": {},
   "outputs": [],
   "source": []
  },
  {
   "cell_type": "code",
   "execution_count": null,
   "id": "df88fd68",
   "metadata": {},
   "outputs": [],
   "source": []
  },
  {
   "cell_type": "code",
   "execution_count": null,
   "id": "47e917fa",
   "metadata": {},
   "outputs": [],
   "source": [
    "# request_by_search = requests.get('https://collectionapi.metmuseum.org/public/collection/v1/search?departmentId=6&q=cat')\n",
    "# cats_id = request_by_search.json()\n",
    "\n",
    "\n",
    "# asian_art_data = pd.DataFrame()\n",
    "\n",
    "# count = 0\n",
    "\n",
    "# for id_number in cats_id['objectIDs']:\n",
    "#     print(id_number)\n",
    "#     request_by_search = requests.get(f'https://collectionapi.metmuseum.org/public/collection/v1/objects/{id_number}')\n",
    "#     cats = request_by_search.json()\n",
    "#     try:\n",
    "#         df_asian_art =  pd.DataFrame({ 'objectID' : cats['objectID'],\n",
    "#                       'title' : cats['title'],\n",
    "#                       'artistDisplayName' : cats['artistDisplayName'],\n",
    "#                       'department' : cats['department'],\n",
    "#                       'objectBeginDate' : cats['objectBeginDate'],\n",
    "#                       'objectEndDate' : cats['objectEndDate'],\n",
    "#                       'period' : cats['period'],\n",
    "#                       'objectName' : cats['objectName'],\n",
    "#                       'culture' : cats['culture']}, index=[0])\n",
    "        \n",
    "#         asian_art_data = asian_art_data.append(df_asian_art)\n",
    "#     except:\n",
    "#         continue"
   ]
  },
  {
   "cell_type": "code",
   "execution_count": null,
   "id": "d7a2ce70",
   "metadata": {},
   "outputs": [],
   "source": [
    "# count = 0\n",
    "\n",
    "# for i in cats_id['objectIDs']:\n",
    "#     print(i)\n",
    "#     request_by_search = requests.get(f'https://collectionapi.metmuseum.org/public/collection/v1/objects/{id_number}')\n",
    "#     count += 1\n",
    "#     if count > 3:\n",
    "#         break\n"
   ]
  },
  {
   "cell_type": "code",
   "execution_count": null,
   "id": "99e5e465",
   "metadata": {},
   "outputs": [],
   "source": [
    "print(1)"
   ]
  },
  {
   "cell_type": "code",
   "execution_count": null,
   "id": "ab3c1e54",
   "metadata": {},
   "outputs": [],
   "source": []
  },
  {
   "cell_type": "code",
   "execution_count": null,
   "id": "38212198",
   "metadata": {},
   "outputs": [],
   "source": []
  }
 ],
 "metadata": {
  "kernelspec": {
   "display_name": "Python 3",
   "language": "python",
   "name": "python3"
  },
  "language_info": {
   "codemirror_mode": {
    "name": "ipython",
    "version": 3
   },
   "file_extension": ".py",
   "mimetype": "text/x-python",
   "name": "python",
   "nbconvert_exporter": "python",
   "pygments_lexer": "ipython3",
   "version": "3.8.8"
  }
 },
 "nbformat": 4,
 "nbformat_minor": 5
}
