{
 "cells": [
  {
   "cell_type": "code",
   "execution_count": 52,
   "id": "379aa573",
   "metadata": {},
   "outputs": [],
   "source": [
    "import pandas as pd\n",
    "import numpy as np\n",
    "import plotly.express as px\n",
    "import seaborn as sns\n",
    "from matplotlib import pyplot as plt\n",
    "import datetime as dt\n",
    "\n",
    "%matplotlib inline"
   ]
  },
  {
   "cell_type": "code",
   "execution_count": 53,
   "id": "bc5c9f5b",
   "metadata": {},
   "outputs": [],
   "source": [
    "df = pd.read_csv('step_1_lesson_7.csv')"
   ]
  },
  {
   "cell_type": "code",
   "execution_count": 54,
   "id": "4936c028",
   "metadata": {},
   "outputs": [
    {
     "data": {
      "text/html": [
       "<div>\n",
       "<style scoped>\n",
       "    .dataframe tbody tr th:only-of-type {\n",
       "        vertical-align: middle;\n",
       "    }\n",
       "\n",
       "    .dataframe tbody tr th {\n",
       "        vertical-align: top;\n",
       "    }\n",
       "\n",
       "    .dataframe thead th {\n",
       "        text-align: right;\n",
       "    }\n",
       "</style>\n",
       "<table border=\"1\" class=\"dataframe\">\n",
       "  <thead>\n",
       "    <tr style=\"text-align: right;\">\n",
       "      <th></th>\n",
       "      <th>date</th>\n",
       "      <th>user_type</th>\n",
       "      <th>visits</th>\n",
       "    </tr>\n",
       "  </thead>\n",
       "  <tbody>\n",
       "    <tr>\n",
       "      <th>0</th>\n",
       "      <td>2020-06-15</td>\n",
       "      <td>People</td>\n",
       "      <td>417.0</td>\n",
       "    </tr>\n",
       "    <tr>\n",
       "      <th>1</th>\n",
       "      <td>2020-06-15</td>\n",
       "      <td>Robots</td>\n",
       "      <td>177.0</td>\n",
       "    </tr>\n",
       "    <tr>\n",
       "      <th>2</th>\n",
       "      <td>2020-06-16</td>\n",
       "      <td>People</td>\n",
       "      <td>472.0</td>\n",
       "    </tr>\n",
       "    <tr>\n",
       "      <th>3</th>\n",
       "      <td>2020-06-16</td>\n",
       "      <td>Robots</td>\n",
       "      <td>91.0</td>\n",
       "    </tr>\n",
       "    <tr>\n",
       "      <th>4</th>\n",
       "      <td>2020-06-17</td>\n",
       "      <td>People</td>\n",
       "      <td>475.0</td>\n",
       "    </tr>\n",
       "    <tr>\n",
       "      <th>5</th>\n",
       "      <td>2020-06-17</td>\n",
       "      <td>Robots</td>\n",
       "      <td>138.0</td>\n",
       "    </tr>\n",
       "  </tbody>\n",
       "</table>\n",
       "</div>"
      ],
      "text/plain": [
       "         date user_type  visits\n",
       "0  2020-06-15    People   417.0\n",
       "1  2020-06-15    Robots   177.0\n",
       "2  2020-06-16    People   472.0\n",
       "3  2020-06-16    Robots    91.0\n",
       "4  2020-06-17    People   475.0\n",
       "5  2020-06-17    Robots   138.0"
      ]
     },
     "execution_count": 54,
     "metadata": {},
     "output_type": "execute_result"
    }
   ],
   "source": [
    "df"
   ]
  },
  {
   "cell_type": "code",
   "execution_count": 55,
   "id": "87783725",
   "metadata": {},
   "outputs": [],
   "source": [
    "df_robots = df.query('user_type == \"Robots\"')\n",
    "df_people = df.query('user_type == \"People\"')"
   ]
  },
  {
   "cell_type": "code",
   "execution_count": 56,
   "id": "281bcd8e",
   "metadata": {},
   "outputs": [
    {
     "data": {
      "text/plain": [
       "<AxesSubplot:xlabel='date', ylabel='visits'>"
      ]
     },
     "execution_count": 56,
     "metadata": {},
     "output_type": "execute_result"
    },
    {
     "data": {
      "image/png": "[encoded data removed]",
      "text/plain": [
       "<Figure size 432x288 with 1 Axes>"
      ]
     },
     "metadata": {
      "needs_background": "light"
     },
     "output_type": "display_data"
    }
   ],
   "source": [
    "sns.barplot(x=df_robots.date, y=df_robots.visits)"
   ]
  },
  {
   "cell_type": "code",
   "execution_count": 57,
   "id": "d7b0a4f8",
   "metadata": {},
   "outputs": [
    {
     "data": {
      "text/plain": [
       "<AxesSubplot:xlabel='date', ylabel='visits'>"
      ]
     },
     "execution_count": 57,
     "metadata": {},
     "output_type": "execute_result"
    },
    {
     "data": {
      "image/png": "[encoded data removed]",
      "text/plain": [
       "<Figure size 432x288 with 1 Axes>"
      ]
     },
     "metadata": {
      "needs_background": "light"
     },
     "output_type": "display_data"
    }
   ],
   "source": [
    "sns.barplot(x=df_people.date, y=df_people.visits)"
   ]
  },
  {
   "cell_type": "code",
   "execution_count": 58,
   "id": "8f7c8b90",
   "metadata": {},
   "outputs": [],
   "source": [
    "diff = abs(df_people.visits - df_robots.visits)"
   ]
  },
  {
   "cell_type": "code",
   "execution_count": null,
   "id": "ba045333",
   "metadata": {},
   "outputs": [],
   "source": []
  },
  {
   "cell_type": "markdown",
   "id": "7cead3d8",
   "metadata": {},
   "source": [
    "### Task 2. Percentage of customers which use Google Chrome"
   ]
  },
  {
   "cell_type": "code",
   "execution_count": 59,
   "id": "60bbf1c3",
   "metadata": {},
   "outputs": [],
   "source": [
    "import requests\n",
    "import json"
   ]
  },
  {
   "cell_type": "code",
   "execution_count": 60,
   "id": "74a38020",
   "metadata": {},
   "outputs": [],
   "source": [
    "# contains_chrome = step2_df.browser.str.contains('Chrom')\n",
    "\n",
    "# round(np.where(contains_chrome == True , 1, 0).sum() / step2_df.shape[0] * 100)"
   ]
  },
  {
   "cell_type": "code",
   "execution_count": 106,
   "id": "6f22a748",
   "metadata": {},
   "outputs": [],
   "source": [
    "step2_df = pd.read_csv('step_2_lesson_7.csv')"
   ]
  },
  {
   "cell_type": "code",
   "execution_count": 62,
   "id": "32e2359d",
   "metadata": {},
   "outputs": [],
   "source": [
    "date = '2022-04-15'"
   ]
  },
  {
   "cell_type": "code",
   "execution_count": 66,
   "id": "d4819802",
   "metadata": {},
   "outputs": [],
   "source": [
    "from urllib.parse import urlencode\n",
    "\n",
    "# Base path to service\n",
    "base_url = 'https://api-metrika.yandex.net/stat/v1/data?'\n",
    "\n",
    "# Parameters of query\n",
    "visits = \"metrics=ym:s:visits&dimensions=ym:s:date&dimensions=ym:s:browser&id=44147844\"\n",
    "\n",
    "url = base_url + visits\n",
    "\n",
    "# visits_url = base_url + urlencode(params)"
   ]
  },
  {
   "cell_type": "code",
   "execution_count": 68,
   "id": "fcb15e15",
   "metadata": {},
   "outputs": [],
   "source": [
    "req = requests.get(url)\n",
    "json_data = json.loads(req.text)"
   ]
  },
  {
   "cell_type": "code",
   "execution_count": 73,
   "id": "5d2aca9e",
   "metadata": {},
   "outputs": [],
   "source": [
    "json_df = pd.DataFrame([(i['dimensions'][0]['name'], i['dimensions'][1]['name'],\n",
    "                       i['metrics'][0]) for i in json_data['data']],\n",
    "                      columns=['date', 'browser_type', 'visits'])"
   ]
  },
  {
   "cell_type": "code",
   "execution_count": 79,
   "id": "543111a0",
   "metadata": {},
   "outputs": [],
   "source": [
    "# round(json_df.query('browser_type == \"Google Chrome\"').count()[0] / j * 100)"
   ]
  },
  {
   "cell_type": "code",
   "execution_count": 120,
   "id": "f50dd2b6",
   "metadata": {},
   "outputs": [],
   "source": [
    "# lol = json_df.browser_type.str.contains('Google Chrome')"
   ]
  },
  {
   "cell_type": "code",
   "execution_count": 119,
   "id": "89b4cba1",
   "metadata": {},
   "outputs": [
    {
     "name": "stdout",
     "output_type": "stream",
     "text": [
      "Percentage of visits from GC: 60\n"
     ]
    }
   ],
   "source": [
    "print('Percentage of visits from GC:', round(step2_df.query('browser == \"Google Chrome\"').visits[0]\\\n",
    "            / step2_df.visits.sum() * 100))"
   ]
  },
  {
   "cell_type": "code",
   "execution_count": 152,
   "id": "2242c23d",
   "metadata": {},
   "outputs": [],
   "source": [
    "step3_df = pd.read_csv('step_3_lesson_7.csv')"
   ]
  },
  {
   "cell_type": "code",
   "execution_count": 153,
   "id": "ffe2dfd6",
   "metadata": {},
   "outputs": [],
   "source": [
    "new_df = step3_df.query('user_type == \"Robots\"').groupby('browser', as_index=False).agg({'visits' : 'sum'})"
   ]
  },
  {
   "cell_type": "code",
   "execution_count": 154,
   "id": "d400ae58",
   "metadata": {},
   "outputs": [
    {
     "data": {
      "text/html": [
       "<div>\n",
       "<style scoped>\n",
       "    .dataframe tbody tr th:only-of-type {\n",
       "        vertical-align: middle;\n",
       "    }\n",
       "\n",
       "    .dataframe tbody tr th {\n",
       "        vertical-align: top;\n",
       "    }\n",
       "\n",
       "    .dataframe thead th {\n",
       "        text-align: right;\n",
       "    }\n",
       "</style>\n",
       "<table border=\"1\" class=\"dataframe\">\n",
       "  <thead>\n",
       "    <tr style=\"text-align: right;\">\n",
       "      <th></th>\n",
       "      <th>browser</th>\n",
       "      <th>visits</th>\n",
       "    </tr>\n",
       "  </thead>\n",
       "  <tbody>\n",
       "    <tr>\n",
       "      <th>0</th>\n",
       "      <td>Chromium</td>\n",
       "      <td>1.0</td>\n",
       "    </tr>\n",
       "    <tr>\n",
       "      <th>1</th>\n",
       "      <td>Edge</td>\n",
       "      <td>1.0</td>\n",
       "    </tr>\n",
       "    <tr>\n",
       "      <th>2</th>\n",
       "      <td>Firefox</td>\n",
       "      <td>31.0</td>\n",
       "    </tr>\n",
       "    <tr>\n",
       "      <th>3</th>\n",
       "      <td>Google Chrome</td>\n",
       "      <td>104.0</td>\n",
       "    </tr>\n",
       "    <tr>\n",
       "      <th>4</th>\n",
       "      <td>Mobile Safari</td>\n",
       "      <td>1.0</td>\n",
       "    </tr>\n",
       "    <tr>\n",
       "      <th>5</th>\n",
       "      <td>Opera</td>\n",
       "      <td>5.0</td>\n",
       "    </tr>\n",
       "    <tr>\n",
       "      <th>6</th>\n",
       "      <td>Safari</td>\n",
       "      <td>22.0</td>\n",
       "    </tr>\n",
       "    <tr>\n",
       "      <th>7</th>\n",
       "      <td>Samsung Internet</td>\n",
       "      <td>1.0</td>\n",
       "    </tr>\n",
       "    <tr>\n",
       "      <th>8</th>\n",
       "      <td>UCWEB</td>\n",
       "      <td>4.0</td>\n",
       "    </tr>\n",
       "    <tr>\n",
       "      <th>9</th>\n",
       "      <td>Yandex Browser</td>\n",
       "      <td>7.0</td>\n",
       "    </tr>\n",
       "  </tbody>\n",
       "</table>\n",
       "</div>"
      ],
      "text/plain": [
       "            browser  visits\n",
       "0          Chromium     1.0\n",
       "1              Edge     1.0\n",
       "2           Firefox    31.0\n",
       "3     Google Chrome   104.0\n",
       "4     Mobile Safari     1.0\n",
       "5             Opera     5.0\n",
       "6            Safari    22.0\n",
       "7  Samsung Internet     1.0\n",
       "8             UCWEB     4.0\n",
       "9    Yandex Browser     7.0"
      ]
     },
     "execution_count": 154,
     "metadata": {},
     "output_type": "execute_result"
    }
   ],
   "source": [
    "new_df"
   ]
  },
  {
   "cell_type": "code",
   "execution_count": 155,
   "id": "115a262e",
   "metadata": {},
   "outputs": [],
   "source": [
    "# step3_df.groupby('browser', as_index=False).agg({'visits' : 'sum'})"
   ]
  },
  {
   "cell_type": "code",
   "execution_count": 156,
   "id": "6b778313",
   "metadata": {},
   "outputs": [],
   "source": [
    "# new_df['all'] = step3_df.groupby('browser', as_index=False).agg({'visits' : 'sum'}).visits"
   ]
  },
  {
   "cell_type": "code",
   "execution_count": 160,
   "id": "021b5b3b",
   "metadata": {},
   "outputs": [],
   "source": [
    "df_browser_visit_counts = step3_df.groupby('browser', as_index=False).agg({'visits' : 'sum'})\n",
    "df_browser_visit_counts = df_browser_visit_counts.rename(columns={'visits' : 'all'})\n",
    "new_df = new_df.merge(df_browser_visit_counts, how='inner', on='browser')"
   ]
  },
  {
   "cell_type": "code",
   "execution_count": 162,
   "id": "5d93f0fa",
   "metadata": {},
   "outputs": [],
   "source": [
    "new_df['percentage'] = new_df['visits'] / new_df['all'] * 100"
   ]
  },
  {
   "cell_type": "code",
   "execution_count": 168,
   "id": "6130fb98",
   "metadata": {},
   "outputs": [],
   "source": [
    "max_bots_visits = new_df.sort_values('percentage', ascending=False).head(1)"
   ]
  },
  {
   "cell_type": "code",
   "execution_count": null,
   "id": "66f5a953",
   "metadata": {},
   "outputs": [],
   "source": []
  }
 ],
 "metadata": {
  "kernelspec": {
   "display_name": "Python 3",
   "language": "python",
   "name": "python3"
  },
  "language_info": {
   "codemirror_mode": {
    "name": "ipython",
    "version": 3
   },
   "file_extension": ".py",
   "mimetype": "text/x-python",
   "name": "python",
   "nbconvert_exporter": "python",
   "pygments_lexer": "ipython3",
   "version": "3.8.8"
  }
 },
 "nbformat": 4,
 "nbformat_minor": 5
}
