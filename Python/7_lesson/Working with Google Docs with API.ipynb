{
 "cells": [
  {
   "cell_type": "code",
   "execution_count": 2,
   "id": "ae655e1d",
   "metadata": {},
   "outputs": [
    {
     "name": "stdout",
     "output_type": "stream",
     "text": [
      "Collecting df2gspread\n",
      "  Downloading df2gspread-1.0.4.tar.gz (11 kB)\n",
      "Collecting argparse>=1.3.0\n",
      "  Downloading argparse-1.4.0-py2.py3-none-any.whl (23 kB)\n",
      "Collecting google-api-python-client==1.6.7\n",
      "  Downloading google_api_python_client-1.6.7-py2.py3-none-any.whl (56 kB)\n",
      "\u001b[K     |████████████████████████████████| 56 kB 202 kB/s eta 0:00:01\n",
      "\u001b[?25hRequirement already satisfied: gspread>=2.1.1 in /opt/anaconda3/lib/python3.8/site-packages (from df2gspread) (5.3.2)\n",
      "Requirement already satisfied: oauth2client<5.0.0dev,>=1.5.0 in /opt/anaconda3/lib/python3.8/site-packages (from df2gspread) (4.1.3)\n",
      "Requirement already satisfied: pandas in /opt/anaconda3/lib/python3.8/site-packages (from df2gspread) (1.2.4)\n",
      "Collecting uritemplate<4dev,>=3.0.0\n",
      "  Downloading uritemplate-3.0.1-py2.py3-none-any.whl (15 kB)\n",
      "Requirement already satisfied: httplib2<1dev,>=0.9.2 in /opt/anaconda3/lib/python3.8/site-packages (from google-api-python-client==1.6.7->df2gspread) (0.20.4)\n",
      "Requirement already satisfied: six<2dev,>=1.6.1 in /opt/anaconda3/lib/python3.8/site-packages (from google-api-python-client==1.6.7->df2gspread) (1.15.0)\n",
      "Requirement already satisfied: google-auth-oauthlib>=0.4.1 in /opt/anaconda3/lib/python3.8/site-packages (from gspread>=2.1.1->df2gspread) (0.4.5)\n",
      "Requirement already satisfied: google-auth>=1.12.0 in /opt/anaconda3/lib/python3.8/site-packages (from gspread>=2.1.1->df2gspread) (1.35.0)\n",
      "Requirement already satisfied: pyasn1-modules>=0.2.1 in /opt/anaconda3/lib/python3.8/site-packages (from google-auth>=1.12.0->gspread>=2.1.1->df2gspread) (0.2.8)\n",
      "Requirement already satisfied: setuptools>=40.3.0 in /opt/anaconda3/lib/python3.8/site-packages (from google-auth>=1.12.0->gspread>=2.1.1->df2gspread) (52.0.0.post20210125)\n",
      "Requirement already satisfied: cachetools<5.0,>=2.0.0 in /opt/anaconda3/lib/python3.8/site-packages (from google-auth>=1.12.0->gspread>=2.1.1->df2gspread) (4.2.2)\n",
      "Requirement already satisfied: rsa<5,>=3.1.4 in /opt/anaconda3/lib/python3.8/site-packages (from google-auth>=1.12.0->gspread>=2.1.1->df2gspread) (4.7.2)\n",
      "Requirement already satisfied: requests-oauthlib>=0.7.0 in /opt/anaconda3/lib/python3.8/site-packages (from google-auth-oauthlib>=0.4.1->gspread>=2.1.1->df2gspread) (1.3.0)\n",
      "Requirement already satisfied: pyparsing!=3.0.0,!=3.0.1,!=3.0.2,!=3.0.3,<4,>=2.4.2 in /opt/anaconda3/lib/python3.8/site-packages (from httplib2<1dev,>=0.9.2->google-api-python-client==1.6.7->df2gspread) (2.4.7)\n",
      "Requirement already satisfied: pyasn1>=0.1.7 in /opt/anaconda3/lib/python3.8/site-packages (from oauth2client<5.0.0dev,>=1.5.0->df2gspread) (0.4.8)\n",
      "Requirement already satisfied: requests>=2.0.0 in /opt/anaconda3/lib/python3.8/site-packages (from requests-oauthlib>=0.7.0->google-auth-oauthlib>=0.4.1->gspread>=2.1.1->df2gspread) (2.25.1)\n",
      "Requirement already satisfied: oauthlib>=3.0.0 in /opt/anaconda3/lib/python3.8/site-packages (from requests-oauthlib>=0.7.0->google-auth-oauthlib>=0.4.1->gspread>=2.1.1->df2gspread) (3.1.1)\n",
      "Requirement already satisfied: urllib3<1.27,>=1.21.1 in /opt/anaconda3/lib/python3.8/site-packages (from requests>=2.0.0->requests-oauthlib>=0.7.0->google-auth-oauthlib>=0.4.1->gspread>=2.1.1->df2gspread) (1.26.4)\n",
      "Requirement already satisfied: chardet<5,>=3.0.2 in /opt/anaconda3/lib/python3.8/site-packages (from requests>=2.0.0->requests-oauthlib>=0.7.0->google-auth-oauthlib>=0.4.1->gspread>=2.1.1->df2gspread) (4.0.0)\n",
      "Requirement already satisfied: idna<3,>=2.5 in /opt/anaconda3/lib/python3.8/site-packages (from requests>=2.0.0->requests-oauthlib>=0.7.0->google-auth-oauthlib>=0.4.1->gspread>=2.1.1->df2gspread) (2.10)\n",
      "Requirement already satisfied: certifi>=2017.4.17 in /opt/anaconda3/lib/python3.8/site-packages (from requests>=2.0.0->requests-oauthlib>=0.7.0->google-auth-oauthlib>=0.4.1->gspread>=2.1.1->df2gspread) (2020.12.5)\n",
      "Requirement already satisfied: python-dateutil>=2.7.3 in /opt/anaconda3/lib/python3.8/site-packages (from pandas->df2gspread) (2.8.1)\n",
      "Requirement already satisfied: pytz>=2017.3 in /opt/anaconda3/lib/python3.8/site-packages (from pandas->df2gspread) (2021.1)\n",
      "Requirement already satisfied: numpy>=1.16.5 in /opt/anaconda3/lib/python3.8/site-packages (from pandas->df2gspread) (1.19.5)\n",
      "Building wheels for collected packages: df2gspread\n",
      "  Building wheel for df2gspread (setup.py) ... \u001b[?25ldone\n",
      "\u001b[?25h  Created wheel for df2gspread: filename=df2gspread-1.0.4-py3-none-any.whl size=11953 sha256=3811644760301b22d7dd5db9bfd533740ee94686ddf57882082d9ff2291b6396\n",
      "  Stored in directory: /Users/babekgus/Library/Caches/pip/wheels/53/32/9b/26e210feef010738b204c7e12454b1ce9576957f66ca64456d\n",
      "Successfully built df2gspread\n",
      "Installing collected packages: uritemplate, google-api-python-client, argparse, df2gspread\n",
      "Successfully installed argparse-1.4.0 df2gspread-1.0.4 google-api-python-client-1.6.7 uritemplate-3.0.1\n"
     ]
    }
   ],
   "source": [
    "!pip3 install df2gspread"
   ]
  },
  {
   "cell_type": "code",
   "execution_count": 4,
   "id": "45cc591d",
   "metadata": {},
   "outputs": [],
   "source": [
    "import pandas as pd\n",
    "import gspread\n",
    "from df2gspread import df2gspread as d2g\n",
    "from oauth2client.service_account import ServiceAccountCredentials\n",
    "\n",
    "scope = ['https://spreadsheets.google.com/feeds',\n",
    "         'https://www.googleapis.com/auth/drive']\n",
    "\n",
    "my_mail = 'babekius@gmail.com'\n",
    "path_to_credentials = 'karpovcourses-v1-5328e2197a70.json'\n",
    "\n",
    "# Authorization\n",
    "credentials = ServiceAccountCredentials.from_json_keyfile_name(path_to_credentials, scope)\n",
    "gs = gspread.authorize(credentials)"
   ]
  },
  {
   "cell_type": "code",
   "execution_count": 6,
   "id": "42086ff7",
   "metadata": {},
   "outputs": [
    {
     "data": {
      "text/html": [
       "<div>\n",
       "<style scoped>\n",
       "    .dataframe tbody tr th:only-of-type {\n",
       "        vertical-align: middle;\n",
       "    }\n",
       "\n",
       "    .dataframe tbody tr th {\n",
       "        vertical-align: top;\n",
       "    }\n",
       "\n",
       "    .dataframe thead th {\n",
       "        text-align: right;\n",
       "    }\n",
       "</style>\n",
       "<table border=\"1\" class=\"dataframe\">\n",
       "  <thead>\n",
       "    <tr style=\"text-align: right;\">\n",
       "      <th></th>\n",
       "      <th>Дедлайн: 18.10.20</th>\n",
       "      <th></th>\n",
       "      <th>не сделал</th>\n",
       "      <th>сделал</th>\n",
       "      <th>рассказал</th>\n",
       "      <th></th>\n",
       "      <th></th>\n",
       "      <th></th>\n",
       "      <th></th>\n",
       "      <th></th>\n",
       "      <th>...</th>\n",
       "      <th></th>\n",
       "      <th></th>\n",
       "      <th></th>\n",
       "      <th></th>\n",
       "      <th></th>\n",
       "      <th></th>\n",
       "      <th></th>\n",
       "      <th></th>\n",
       "      <th></th>\n",
       "      <th></th>\n",
       "    </tr>\n",
       "  </thead>\n",
       "  <tbody>\n",
       "    <tr>\n",
       "      <th>0</th>\n",
       "      <td>№</td>\n",
       "      <td>Emil</td>\n",
       "      <td>Aldar</td>\n",
       "      <td>Саша П</td>\n",
       "      <td>Милан М</td>\n",
       "      <td>Rishat S.</td>\n",
       "      <td>Рома Е</td>\n",
       "      <td>Poincare</td>\n",
       "      <td>Konstantin B</td>\n",
       "      <td>Dmitry E</td>\n",
       "      <td>...</td>\n",
       "      <td></td>\n",
       "      <td></td>\n",
       "      <td></td>\n",
       "      <td></td>\n",
       "      <td></td>\n",
       "      <td></td>\n",
       "      <td></td>\n",
       "      <td></td>\n",
       "      <td></td>\n",
       "      <td></td>\n",
       "    </tr>\n",
       "    <tr>\n",
       "      <th>1</th>\n",
       "      <td>Глава 1 Некоторые общематематические понятия и...</td>\n",
       "      <td></td>\n",
       "      <td></td>\n",
       "      <td></td>\n",
       "      <td></td>\n",
       "      <td></td>\n",
       "      <td></td>\n",
       "      <td></td>\n",
       "      <td></td>\n",
       "      <td></td>\n",
       "      <td>...</td>\n",
       "      <td></td>\n",
       "      <td></td>\n",
       "      <td></td>\n",
       "      <td></td>\n",
       "      <td></td>\n",
       "      <td></td>\n",
       "      <td></td>\n",
       "      <td></td>\n",
       "      <td></td>\n",
       "      <td></td>\n",
       "    </tr>\n",
       "    <tr>\n",
       "      <th>2</th>\n",
       "      <td>§ 1 Логическая символика</td>\n",
       "      <td></td>\n",
       "      <td></td>\n",
       "      <td></td>\n",
       "      <td></td>\n",
       "      <td></td>\n",
       "      <td></td>\n",
       "      <td></td>\n",
       "      <td></td>\n",
       "      <td></td>\n",
       "      <td>...</td>\n",
       "      <td></td>\n",
       "      <td></td>\n",
       "      <td></td>\n",
       "      <td></td>\n",
       "      <td></td>\n",
       "      <td></td>\n",
       "      <td></td>\n",
       "      <td></td>\n",
       "      <td></td>\n",
       "      <td></td>\n",
       "    </tr>\n",
       "    <tr>\n",
       "      <th>3</th>\n",
       "      <td>1</td>\n",
       "      <td>сделал</td>\n",
       "      <td>сделал</td>\n",
       "      <td>не сделал</td>\n",
       "      <td>сделал</td>\n",
       "      <td>сделал</td>\n",
       "      <td>сделал</td>\n",
       "      <td>сделал</td>\n",
       "      <td>сделал</td>\n",
       "      <td>не сделал</td>\n",
       "      <td>...</td>\n",
       "      <td>не сделал</td>\n",
       "      <td>не сделал</td>\n",
       "      <td>не сделал</td>\n",
       "      <td>не сделал</td>\n",
       "      <td>не сделал</td>\n",
       "      <td>не сделал</td>\n",
       "      <td>не сделал</td>\n",
       "      <td>не сделал</td>\n",
       "      <td>не сделал</td>\n",
       "      <td>не сделал</td>\n",
       "    </tr>\n",
       "    <tr>\n",
       "      <th>4</th>\n",
       "      <td>2</td>\n",
       "      <td>сделал</td>\n",
       "      <td>сделал</td>\n",
       "      <td>не сделал</td>\n",
       "      <td>сделал</td>\n",
       "      <td>сделал</td>\n",
       "      <td>сделал</td>\n",
       "      <td>сделал</td>\n",
       "      <td>сделал</td>\n",
       "      <td>не сделал</td>\n",
       "      <td>...</td>\n",
       "      <td>не сделал</td>\n",
       "      <td>не сделал</td>\n",
       "      <td>не сделал</td>\n",
       "      <td>не сделал</td>\n",
       "      <td>не сделал</td>\n",
       "      <td>не сделал</td>\n",
       "      <td>не сделал</td>\n",
       "      <td>не сделал</td>\n",
       "      <td>не сделал</td>\n",
       "      <td>не сделал</td>\n",
       "    </tr>\n",
       "  </tbody>\n",
       "</table>\n",
       "<p>5 rows × 26 columns</p>\n",
       "</div>"
      ],
      "text/plain": [
       "                                  Дедлайн: 18.10.20          не сделал  \\\n",
       "0                                                  №    Emil     Aldar   \n",
       "1  Глава 1 Некоторые общематематические понятия и...                     \n",
       "2                           § 1 Логическая символика                     \n",
       "3                                                  1  сделал    сделал   \n",
       "4                                                  2  сделал    сделал   \n",
       "\n",
       "      сделал рассказал                                                        \\\n",
       "0     Саша П   Милан М  Rishat S.  Рома Е  Poincare  Konstantin B   Dmitry E   \n",
       "1                                                                              \n",
       "2                                                                              \n",
       "3  не сделал    сделал     сделал  сделал    сделал        сделал  не сделал   \n",
       "4  не сделал    сделал     сделал  сделал    сделал        сделал  не сделал   \n",
       "\n",
       "   ...                                                                    \\\n",
       "0  ...                                                                     \n",
       "1  ...                                                                     \n",
       "2  ...                                                                     \n",
       "3  ...  не сделал  не сделал  не сделал  не сделал  не сделал  не сделал   \n",
       "4  ...  не сделал  не сделал  не сделал  не сделал  не сделал  не сделал   \n",
       "\n",
       "                                               \n",
       "0                                              \n",
       "1                                              \n",
       "2                                              \n",
       "3  не сделал  не сделал  не сделал  не сделал  \n",
       "4  не сделал  не сделал  не сделал  не сделал  \n",
       "\n",
       "[5 rows x 26 columns]"
      ]
     },
     "execution_count": 6,
     "metadata": {},
     "output_type": "execute_result"
    }
   ],
   "source": [
    "# Name of the table in google sheets,\n",
    "# can be url for open_by_url\n",
    "# or id (key) part for open_by_key\n",
    "table_name = 'Бот Зорич/Кострикин'  # Your table\n",
    "\n",
    "# Get this table\n",
    "work_sheet = gs.open(table_name)\n",
    "\n",
    "# Select 1st sheet\n",
    "sheet1 = work_sheet.sheet1\n",
    "\n",
    "# Get data in python lists format\n",
    "data = sheet1.get_all_values()\n",
    "\n",
    "# Get header from data\n",
    "headers = data.pop(0)\n",
    "\n",
    "# Create df\n",
    "df = pd.DataFrame(data, columns=headers)\n",
    "df.head()"
   ]
  },
  {
   "cell_type": "markdown",
   "id": "97552184",
   "metadata": {},
   "source": [
    "## Creating a new spreadsheet in Google Docs"
   ]
  },
  {
   "cell_type": "code",
   "execution_count": 14,
   "id": "9264e1ed",
   "metadata": {},
   "outputs": [],
   "source": [
    "# Create empty table\n",
    "table_name = 'A new spreadsheet'\n",
    "sheet2 = gs.create(table_name)\n",
    "\n",
    "# Make it visible to other guys\n",
    "sheet2.share(my_mail, perm_type='user', role='writer')"
   ]
  },
  {
   "cell_type": "markdown",
   "id": "57f6ab09",
   "metadata": {},
   "source": [
    "## Dataframe export to Google Docs"
   ]
  },
  {
   "cell_type": "code",
   "execution_count": 15,
   "id": "8f4a230e",
   "metadata": {},
   "outputs": [
    {
     "data": {
      "text/plain": [
       "<Worksheet 'Master' id:114880244>"
      ]
     },
     "execution_count": 15,
     "metadata": {},
     "output_type": "execute_result"
    }
   ],
   "source": [
    "import numpy as np\n",
    "\n",
    "# Create your df\n",
    "df = pd.DataFrame(np.random.randint(0,100,size=(100, 4)), columns=list('ABCD'))\n",
    "\n",
    "# Looks like spreadsheet should be already present at the dist (so, run code in create table section)\n",
    "sheet = 'Master'\n",
    "d2g.upload(df, table_name, sheet, credentials=credentials, row_names=True)"
   ]
  },
  {
   "cell_type": "markdown",
   "id": "e8a08350",
   "metadata": {},
   "source": [
    "## Creating a table in Google Docs"
   ]
  },
  {
   "cell_type": "code",
   "execution_count": 16,
   "id": "d1f430d1",
   "metadata": {},
   "outputs": [],
   "source": [
    "spreadsheet_url = \"https://docs.google.com/spreadsheets/d/%s\" % sheet2.id"
   ]
  },
  {
   "cell_type": "code",
   "execution_count": 18,
   "id": "6e50f4d5",
   "metadata": {},
   "outputs": [
    {
     "name": "stdout",
     "output_type": "stream",
     "text": [
      "https://docs.google.com/spreadsheets/d/19KD0AeBfs0IgR8BzQfadoioBdmhq-lx5eesb18bEAO4\n"
     ]
    }
   ],
   "source": [
    "print(spreadsheet_url)"
   ]
  },
  {
   "cell_type": "code",
   "execution_count": null,
   "id": "2e95cf25",
   "metadata": {},
   "outputs": [],
   "source": []
  },
  {
   "cell_type": "code",
   "execution_count": null,
   "id": "fb6a65b9",
   "metadata": {},
   "outputs": [],
   "source": []
  },
  {
   "cell_type": "markdown",
   "id": "d28ffedf",
   "metadata": {},
   "source": [
    "### Task 1. Calculate percentage of men customers in website"
   ]
  },
  {
   "cell_type": "code",
   "execution_count": 19,
   "id": "7ca7cb7b",
   "metadata": {},
   "outputs": [],
   "source": [
    "from io import BytesIO\n",
    "import requests\n",
    "\n",
    "\n",
    "req = requests.get('https://docs.google.com/spreadsheets/d/1e3PRXmMNXo9AZZnaol1aHgYxtH6KYaCDymEQlK6jaO8/export?format=csv')\n",
    "data = req.content\n",
    "\n",
    "df = pd.read_csv(BytesIO(data))"
   ]
  },
  {
   "cell_type": "code",
   "execution_count": 31,
   "id": "a84580f5",
   "metadata": {},
   "outputs": [
    {
     "name": "stdout",
     "output_type": "stream",
     "text": [
      "Percentage of men: 41\n"
     ]
    }
   ],
   "source": [
    "print('Percentage of men:', round(df.query('gender == \"male\"').users[1] / df.users.sum() * 100))"
   ]
  },
  {
   "cell_type": "markdown",
   "id": "79d90a47",
   "metadata": {},
   "source": [
    "### Task 2. Choose users, which use Chrome browser and they are a robots"
   ]
  },
  {
   "cell_type": "code",
   "execution_count": 35,
   "id": "9155e7eb",
   "metadata": {},
   "outputs": [],
   "source": [
    "import numpy as np"
   ]
  },
  {
   "cell_type": "code",
   "execution_count": 36,
   "id": "c18d8e66",
   "metadata": {},
   "outputs": [],
   "source": [
    "browser_data = pd.read_csv('7_browser.csv')"
   ]
  },
  {
   "cell_type": "code",
   "execution_count": 51,
   "id": "03cbd4af",
   "metadata": {},
   "outputs": [],
   "source": [
    "chrome_robots = pd.Series(np.where\\\n",
    "                          (browser_data.browser.str.contains('Chrome')\\\n",
    "                            & browser_data.user_type.str.contains('Robot'), 1, 0))"
   ]
  },
  {
   "cell_type": "markdown",
   "id": "1044a693",
   "metadata": {},
   "source": [
    "### Task 3. Count how many click_type we have"
   ]
  },
  {
   "cell_type": "code",
   "execution_count": 53,
   "id": "ca99fa1a",
   "metadata": {},
   "outputs": [],
   "source": [
    "req = requests.get('https://stepik.org/media/attachments/lesson/361619/sample_ads.csv')\n",
    "data_from_req = req.content\n",
    "\n",
    "sample_ads = pd.read_csv(BytesIO(data_from_req))"
   ]
  },
  {
   "cell_type": "code",
   "execution_count": 57,
   "id": "059cefca",
   "metadata": {},
   "outputs": [
    {
     "data": {
      "text/plain": [
       "11"
      ]
     },
     "execution_count": 57,
     "metadata": {},
     "output_type": "execute_result"
    }
   ],
   "source": [
    "sample_ads.dropna().count().click_type"
   ]
  },
  {
   "cell_type": "code",
   "execution_count": null,
   "id": "64eaa7ad",
   "metadata": {},
   "outputs": [],
   "source": []
  },
  {
   "cell_type": "code",
   "execution_count": null,
   "id": "a36a3027",
   "metadata": {},
   "outputs": [],
   "source": []
  },
  {
   "cell_type": "markdown",
   "id": "016fc7ee",
   "metadata": {},
   "source": [
    "### Task 4. Make integers in lst array and append them to new_list with try-except statement"
   ]
  },
  {
   "cell_type": "code",
   "execution_count": 58,
   "id": "f0349c93",
   "metadata": {},
   "outputs": [],
   "source": [
    "new_list = []\n",
    "lst = [0, 1, '1', '20', 1.0, 55.66, 7]\n",
    "def int_maker(lst):\n",
    "    for i in range(len(lst)):\n",
    "        try:\n",
    "            new_list.append(int(lst[i]))\n",
    "        except:\n",
    "            continue\n",
    "\n",
    "int_maker(lst)"
   ]
  },
  {
   "cell_type": "code",
   "execution_count": 60,
   "id": "3e13929f",
   "metadata": {},
   "outputs": [
    {
     "name": "stdout",
     "output_type": "stream",
     "text": [
      "[0, 1, 1, 20, 1, 55, 7]\n"
     ]
    }
   ],
   "source": [
    "print(new_list)"
   ]
  },
  {
   "cell_type": "code",
   "execution_count": null,
   "id": "775f590d",
   "metadata": {},
   "outputs": [],
   "source": []
  }
 ],
 "metadata": {
  "kernelspec": {
   "display_name": "Python 3",
   "language": "python",
   "name": "python3"
  },
  "language_info": {
   "codemirror_mode": {
    "name": "ipython",
    "version": 3
   },
   "file_extension": ".py",
   "mimetype": "text/x-python",
   "name": "python",
   "nbconvert_exporter": "python",
   "pygments_lexer": "ipython3",
   "version": "3.8.8"
  }
 },
 "nbformat": 4,
 "nbformat_minor": 5
}
