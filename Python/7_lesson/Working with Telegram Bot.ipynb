{
 "cells": [
  {
   "cell_type": "markdown",
   "id": "d20f9f41",
   "metadata": {},
   "source": [
    "### Send some message with TG bot"
   ]
  },
  {
   "cell_type": "code",
   "execution_count": 1,
   "id": "a14af5ca",
   "metadata": {},
   "outputs": [],
   "source": [
    "import requests\n",
    "import json\n",
    "from urllib.parse import urlencode\n",
    "\n",
    "token = '5361458342:AAFlMLb9gi1xGRszTtpd8ijz3Qn_xYS59cc'\n",
    "chat_id = 717093053  # your chat id\n",
    "\n",
    "message = 'test'  # text which you want to send\n",
    "\n",
    "params = {'chat_id': chat_id, 'text': message}\n",
    "\n",
    "base_url = f'https://api.telegram.org/bot{token}/'\n",
    "url = base_url + 'sendMessage?' + urlencode(params)\n",
    "# Only if you need it\n",
    "# proxy = {'https': 'https://77.48.23.199:57842'}\n",
    "\n",
    "# To send request via proxy\n",
    "# resp = requests.get(url, proxies=proxy)\n",
    "resp = requests.get(url)"
   ]
  },
  {
   "cell_type": "markdown",
   "id": "15ea1d03",
   "metadata": {},
   "source": [
    "### Document sending"
   ]
  },
  {
   "cell_type": "code",
   "execution_count": 3,
   "id": "3b9c413a",
   "metadata": {},
   "outputs": [],
   "source": [
    "# Path to necessary file\n",
    "filepath = '7_browser.csv'\n",
    "\n",
    "url = base_url + 'sendDocument?' + urlencode(params)\n",
    "\n",
    "files = {'document': open(filepath, 'rb')}\n",
    "\n",
    "# If you need proxy\n",
    "# resp = requests.get(url, files=files, proxies=proxy)\n",
    "resp = requests.get(url, files=files)"
   ]
  },
  {
   "cell_type": "code",
   "execution_count": null,
   "id": "aa345bb7",
   "metadata": {},
   "outputs": [],
   "source": []
  }
 ],
 "metadata": {
  "kernelspec": {
   "display_name": "Python 3",
   "language": "python",
   "name": "python3"
  },
  "language_info": {
   "codemirror_mode": {
    "name": "ipython",
    "version": 3
   },
   "file_extension": ".py",
   "mimetype": "text/x-python",
   "name": "python",
   "nbconvert_exporter": "python",
   "pygments_lexer": "ipython3",
   "version": "3.8.8"
  }
 },
 "nbformat": 4,
 "nbformat_minor": 5
}
