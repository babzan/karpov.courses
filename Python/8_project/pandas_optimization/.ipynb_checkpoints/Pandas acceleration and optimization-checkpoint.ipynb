{
 "cells": [
  {
   "cell_type": "code",
   "execution_count": 75,
   "id": "aeab3e94",
   "metadata": {},
   "outputs": [],
   "source": [
    "import pandas as pd\n",
    "import numpy as np\n",
    "import math\n",
    "import seaborn as sns\n",
    "from matplotlib import pyplot as plt\n",
    "\n",
    "\n",
    "%matplotlib inline"
   ]
  },
  {
   "cell_type": "code",
   "execution_count": 22,
   "id": "292a7c1a",
   "metadata": {},
   "outputs": [],
   "source": [
    "nyc_taxi_data = pd.read_csv('train.csv')"
   ]
  },
  {
   "cell_type": "markdown",
   "id": "274afafd",
   "metadata": {},
   "source": [
    "At this step we will implement this haversine formula for each row of data to getting a distance\n",
    "\n",
    "$ d = 2r \\arcsin\\left(\\sqrt{\\sin^2\\left(\\frac{\\varphi_2 - \\varphi_1}{2}\\right) + \\cos \\varphi_1 \\cdot \\cos \\varphi_2 \\cdot \\sin^2\\left(\\frac{\\lambda_2 - \\lambda_1}{2}\\right)}\\right) $\n",
    "\n",
    "You can read about it more in Wikipedia page: https://en.wikipedia.org/wiki/Haversine_formula\n",
    "\n",
    "Where $\\varphi_1$  and $\\varphi_2$ means latitude of source location and latitude of destination in radians;\n",
    "\n",
    "$\\lambda_1$ and $\\lambda_2$ means longitude of source location and longitude of destination in radians\n",
    "\n",
    "Let's implement a function, which will calculate this distance for us:"
   ]
  },
  {
   "cell_type": "code",
   "execution_count": 55,
   "id": "9b3a7a08",
   "metadata": {},
   "outputs": [],
   "source": [
    "def haversine(phi_1 , phi_2, lambda_1, lambda_2, radius=6371):\n",
    "    d = 2 * radius * np.arcsin(np.sqrt(\n",
    "                    (np.sin((np.radians(phi_2) - np.radians(phi_1)) / 2) ** 2)\\\n",
    "                    + np.cos(np.radians(phi_1))*np.cos(np.radians(phi_2))\\\n",
    "                    *np.sin((np.radians(lambda_2) - np.radians(lambda_1)) / 2)**2))\n",
    "    return d"
   ]
  },
  {
   "cell_type": "code",
   "execution_count": 56,
   "id": "8a27c073",
   "metadata": {},
   "outputs": [
    {
     "name": "stdout",
     "output_type": "stream",
     "text": [
      "CPU times: user 4.84 s, sys: 65.5 ms, total: 4.91 s\n",
      "Wall time: 5.03 s\n"
     ]
    }
   ],
   "source": [
    "%%time\n",
    "nyc_taxi_data['distance'] = pd.Series(\n",
    "                    haversine(row['pickup_latitude'],\n",
    "                              row['dropoff_latitude'],\n",
    "                              row['pickup_longitude'],\n",
    "                              row['dropoff_longitude']) for i, row in nyc_taxi_data.iterrows())"
   ]
  },
  {
   "cell_type": "markdown",
   "id": "5b754d9b",
   "metadata": {},
   "source": [
    "Let's use the another pandas method - itertuples() and compare their lead time"
   ]
  },
  {
   "cell_type": "code",
   "execution_count": 60,
   "id": "6d1f4c04",
   "metadata": {},
   "outputs": [
    {
     "name": "stdout",
     "output_type": "stream",
     "text": [
      "CPU times: user 796 ms, sys: 37.3 ms, total: 833 ms\n",
      "Wall time: 845 ms\n"
     ]
    }
   ],
   "source": [
    "%%time\n",
    "\n",
    "nyc_taxi_data['distance'] = pd.Series(\n",
    "                    haversine(row.pickup_latitude,\n",
    "                              row.dropoff_latitude,\n",
    "                              row.pickup_longitude,\n",
    "                              row.dropoff_longitude) for row in nyc_taxi_data.itertuples())"
   ]
  },
  {
   "cell_type": "markdown",
   "id": "8ce27f0e",
   "metadata": {},
   "source": [
    "What about execution time while using apply?"
   ]
  },
  {
   "cell_type": "code",
   "execution_count": 64,
   "id": "bc8812f3",
   "metadata": {},
   "outputs": [
    {
     "name": "stdout",
     "output_type": "stream",
     "text": [
      "CPU times: user 1.39 s, sys: 19.1 ms, total: 1.41 s\n",
      "Wall time: 1.43 s\n"
     ]
    }
   ],
   "source": [
    "%%time\n",
    "nyc_taxi_data['distance'] = nyc_taxi_data[['pickup_latitude', 'dropoff_latitude', 'pickup_longitude', 'dropoff_longitude']]\\\n",
    "                    .apply(lambda row: haversine(row[0], row[1], row[2], row[3]), axis=1)"
   ]
  },
  {
   "cell_type": "code",
   "execution_count": 65,
   "id": "0467eb27",
   "metadata": {},
   "outputs": [],
   "source": [
    "longest = nyc_taxi_data.distance.max()"
   ]
  },
  {
   "cell_type": "markdown",
   "id": "00a4098b",
   "metadata": {},
   "source": [
    "As we will see - vectorized functions works much much faster and better then iterable functions."
   ]
  },
  {
   "cell_type": "code",
   "execution_count": 68,
   "id": "a495ee69",
   "metadata": {},
   "outputs": [
    {
     "name": "stdout",
     "output_type": "stream",
     "text": [
      "CPU times: user 16.6 ms, sys: 2 ms, total: 18.6 ms\n",
      "Wall time: 14.5 ms\n"
     ]
    }
   ],
   "source": [
    "%%time\n",
    "nyc_taxi_data['distance'] = haversine(nyc_taxi_data['pickup_latitude'],\n",
    "                                      nyc_taxi_data['dropoff_latitude'],\n",
    "                                      nyc_taxi_data['pickup_longitude'],\n",
    "                                      nyc_taxi_data['dropoff_longitude'])"
   ]
  },
  {
   "cell_type": "markdown",
   "id": "395714b9",
   "metadata": {},
   "source": [
    "So, we got the 16.6 ms, which much better than we had before.\n",
    "\n",
    "Vectorized functions on Series, matrices - good choice for fast execution.\n",
    "\n",
    "But what if we can do it faster?.."
   ]
  },
  {
   "cell_type": "code",
   "execution_count": 71,
   "id": "78352800",
   "metadata": {},
   "outputs": [
    {
     "name": "stdout",
     "output_type": "stream",
     "text": [
      "CPU times: user 5.77 ms, sys: 1.09 ms, total: 6.87 ms\n",
      "Wall time: 6.05 ms\n"
     ]
    }
   ],
   "source": [
    "%%time\n",
    "nyc_taxi_data['distance'] = haversine(nyc_taxi_data['pickup_latitude'].values,\n",
    "                                      nyc_taxi_data['dropoff_latitude'].values,\n",
    "                                      nyc_taxi_data['pickup_longitude'].values,\n",
    "                                      nyc_taxi_data['dropoff_longitude'].values)"
   ]
  },
  {
   "cell_type": "code",
   "execution_count": 74,
   "id": "1d96af5d",
   "metadata": {},
   "outputs": [],
   "source": [
    "count_zero_dropoffs = nyc_taxi_data.query('(dropoff_latitude == 0) or (dropoff_longitude == 0)').shape[0]"
   ]
  },
  {
   "cell_type": "code",
   "execution_count": null,
   "id": "f59651a5",
   "metadata": {},
   "outputs": [],
   "source": []
  },
  {
   "cell_type": "code",
   "execution_count": null,
   "id": "0e2e44ee",
   "metadata": {},
   "outputs": [],
   "source": []
  },
  {
   "cell_type": "markdown",
   "id": "542afd87",
   "metadata": {},
   "source": [
    "#### Let's see to distributions of our coordinates and select the statements to find maximum distance without outliers."
   ]
  },
  {
   "cell_type": "code",
   "execution_count": 89,
   "id": "2f85083a",
   "metadata": {},
   "outputs": [
    {
     "data": {
      "text/plain": [
       "array([[<AxesSubplot:title={'center':'pickup_latitude'}>,\n",
       "        <AxesSubplot:title={'center':'pickup_longitude'}>],\n",
       "       [<AxesSubplot:title={'center':'dropoff_latitude'}>,\n",
       "        <AxesSubplot:title={'center':'dropoff_longitude'}>]], dtype=object)"
      ]
     },
     "execution_count": 89,
     "metadata": {},
     "output_type": "execute_result"
    },
    {
     "data": {
      "image/png": "[encoded data removed]",
      "text/plain": [
       "<Figure size 1440x576 with 4 Axes>"
      ]
     },
     "metadata": {
      "needs_background": "light"
     },
     "output_type": "display_data"
    }
   ],
   "source": [
    "nyc_taxi_data[['pickup_latitude', 'pickup_longitude', 'dropoff_latitude', 'dropoff_longitude']].hist(figsize=(20, 8))"
   ]
  },
  {
   "cell_type": "markdown",
   "id": "8486e55a",
   "metadata": {},
   "source": [
    "#### Top 5 most distant taxi rides is:"
   ]
  },
  {
   "cell_type": "code",
   "execution_count": 88,
   "id": "21b4103b",
   "metadata": {},
   "outputs": [
    {
     "data": {
      "text/html": [
       "<div>\n",
       "<style scoped>\n",
       "    .dataframe tbody tr th:only-of-type {\n",
       "        vertical-align: middle;\n",
       "    }\n",
       "\n",
       "    .dataframe tbody tr th {\n",
       "        vertical-align: top;\n",
       "    }\n",
       "\n",
       "    .dataframe thead th {\n",
       "        text-align: right;\n",
       "    }\n",
       "</style>\n",
       "<table border=\"1\" class=\"dataframe\">\n",
       "  <thead>\n",
       "    <tr style=\"text-align: right;\">\n",
       "      <th></th>\n",
       "      <th>key</th>\n",
       "      <th>fare_amount</th>\n",
       "      <th>pickup_datetime</th>\n",
       "      <th>pickup_longitude</th>\n",
       "      <th>pickup_latitude</th>\n",
       "      <th>dropoff_longitude</th>\n",
       "      <th>dropoff_latitude</th>\n",
       "      <th>passenger_count</th>\n",
       "      <th>distance</th>\n",
       "    </tr>\n",
       "  </thead>\n",
       "  <tbody>\n",
       "    <tr>\n",
       "      <th>33502</th>\n",
       "      <td>2014-02-22 02:44:00.00000052</td>\n",
       "      <td>136.00</td>\n",
       "      <td>2014-02-22 02:44:00 UTC</td>\n",
       "      <td>-73.989540</td>\n",
       "      <td>40.757032</td>\n",
       "      <td>-73.860580</td>\n",
       "      <td>41.147487</td>\n",
       "      <td>1</td>\n",
       "      <td>44.746988</td>\n",
       "    </tr>\n",
       "    <tr>\n",
       "      <th>12349</th>\n",
       "      <td>2010-05-01 15:23:00.00000097</td>\n",
       "      <td>104.67</td>\n",
       "      <td>2010-05-01 15:23:00 UTC</td>\n",
       "      <td>-73.797225</td>\n",
       "      <td>40.639720</td>\n",
       "      <td>-73.840545</td>\n",
       "      <td>41.030892</td>\n",
       "      <td>1</td>\n",
       "      <td>43.648755</td>\n",
       "    </tr>\n",
       "    <tr>\n",
       "      <th>649</th>\n",
       "      <td>2009-09-19 10:34:41.0000002</td>\n",
       "      <td>66.30</td>\n",
       "      <td>2009-09-19 10:34:41 UTC</td>\n",
       "      <td>-74.438233</td>\n",
       "      <td>40.993260</td>\n",
       "      <td>-74.185996</td>\n",
       "      <td>40.693874</td>\n",
       "      <td>2</td>\n",
       "      <td>39.476975</td>\n",
       "    </tr>\n",
       "    <tr>\n",
       "      <th>6308</th>\n",
       "      <td>2010-08-23 11:06:00.000000121</td>\n",
       "      <td>45.00</td>\n",
       "      <td>2010-08-23 11:06:00 UTC</td>\n",
       "      <td>-73.422692</td>\n",
       "      <td>40.747012</td>\n",
       "      <td>-73.870317</td>\n",
       "      <td>40.773160</td>\n",
       "      <td>1</td>\n",
       "      <td>37.812945</td>\n",
       "    </tr>\n",
       "    <tr>\n",
       "      <th>18656</th>\n",
       "      <td>2009-12-08 12:58:00.00000033</td>\n",
       "      <td>49.57</td>\n",
       "      <td>2009-12-08 12:58:00 UTC</td>\n",
       "      <td>-73.781842</td>\n",
       "      <td>40.644690</td>\n",
       "      <td>-74.177562</td>\n",
       "      <td>40.695237</td>\n",
       "      <td>5</td>\n",
       "      <td>33.844445</td>\n",
       "    </tr>\n",
       "  </tbody>\n",
       "</table>\n",
       "</div>"
      ],
      "text/plain": [
       "                                 key  fare_amount          pickup_datetime  \\\n",
       "33502   2014-02-22 02:44:00.00000052       136.00  2014-02-22 02:44:00 UTC   \n",
       "12349   2010-05-01 15:23:00.00000097       104.67  2010-05-01 15:23:00 UTC   \n",
       "649      2009-09-19 10:34:41.0000002        66.30  2009-09-19 10:34:41 UTC   \n",
       "6308   2010-08-23 11:06:00.000000121        45.00  2010-08-23 11:06:00 UTC   \n",
       "18656   2009-12-08 12:58:00.00000033        49.57  2009-12-08 12:58:00 UTC   \n",
       "\n",
       "       pickup_longitude  pickup_latitude  dropoff_longitude  dropoff_latitude  \\\n",
       "33502        -73.989540        40.757032         -73.860580         41.147487   \n",
       "12349        -73.797225        40.639720         -73.840545         41.030892   \n",
       "649          -74.438233        40.993260         -74.185996         40.693874   \n",
       "6308         -73.422692        40.747012         -73.870317         40.773160   \n",
       "18656        -73.781842        40.644690         -74.177562         40.695237   \n",
       "\n",
       "       passenger_count   distance  \n",
       "33502                1  44.746988  \n",
       "12349                1  43.648755  \n",
       "649                  2  39.476975  \n",
       "6308                 1  37.812945  \n",
       "18656                5  33.844445  "
      ]
     },
     "execution_count": 88,
     "metadata": {},
     "output_type": "execute_result"
    }
   ],
   "source": [
    "nyc_taxi_data.query('(10 < pickup_latitude < 120) and \\\n",
    "                    (pickup_longitude < -60) and (10 < dropoff_latitude) \\\n",
    "                    and (dropoff_longitude < -60) and distance <= 50').sort_values(by='distance', ascending=False).head(5)"
   ]
  },
  {
   "cell_type": "code",
   "execution_count": null,
   "id": "7415c70c",
   "metadata": {},
   "outputs": [],
   "source": []
  }
 ],
 "metadata": {
  "kernelspec": {
   "display_name": "Python 3",
   "language": "python",
   "name": "python3"
  },
  "language_info": {
   "codemirror_mode": {
    "name": "ipython",
    "version": 3
   },
   "file_extension": ".py",
   "mimetype": "text/x-python",
   "name": "python",
   "nbconvert_exporter": "python",
   "pygments_lexer": "ipython3",
   "version": "3.8.8"
  }
 },
 "nbformat": 4,
 "nbformat_minor": 5
}
