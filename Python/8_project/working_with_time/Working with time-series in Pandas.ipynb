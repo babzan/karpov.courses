{
 "cells": [
  {
   "cell_type": "code",
   "execution_count": 15,
   "id": "da65e64c",
   "metadata": {},
   "outputs": [],
   "source": [
    "import pandas as pd\n",
    "import numpy as np\n",
    "import datetime as dt\n",
    "import seaborn as sns\n",
    "\n",
    "%matplotlib inline"
   ]
  },
  {
   "cell_type": "code",
   "execution_count": 16,
   "id": "df70734d",
   "metadata": {},
   "outputs": [],
   "source": [
    "bike_rent_chicago = pd.read_csv('bikes_q1_sample.csv', parse_dates=['start_time', 'end_time'])"
   ]
  },
  {
   "cell_type": "code",
   "execution_count": 17,
   "id": "c41f659e",
   "metadata": {},
   "outputs": [],
   "source": [
    "bike_rent_chicago.set_index('start_time', inplace=True)"
   ]
  },
  {
   "cell_type": "code",
   "execution_count": 25,
   "id": "dcf95003",
   "metadata": {},
   "outputs": [
    {
     "data": {
      "text/plain": [
       "4196"
      ]
     },
     "execution_count": 25,
     "metadata": {},
     "output_type": "execute_result"
    }
   ],
   "source": [
    "bike_rent_chicago.resample(rule='D').size().max()"
   ]
  },
  {
   "cell_type": "code",
   "execution_count": 28,
   "id": "699946db",
   "metadata": {},
   "outputs": [],
   "source": [
    "bikes_april = pd.read_csv('bikes_april.csv', parse_dates=['start_time', 'end_time'])"
   ]
  },
  {
   "cell_type": "code",
   "execution_count": 36,
   "id": "42c709f2",
   "metadata": {},
   "outputs": [],
   "source": [
    "bikes_april.set_index('start_time', inplace=True)"
   ]
  },
  {
   "cell_type": "code",
   "execution_count": 41,
   "id": "279c4763",
   "metadata": {},
   "outputs": [],
   "source": [
    "day_bikes_count = bikes_april.groupby('usertype').trip_id.resample('1d').count()"
   ]
  },
  {
   "cell_type": "code",
   "execution_count": 42,
   "id": "50cb8336",
   "metadata": {},
   "outputs": [
    {
     "data": {
      "text/plain": [
       "2196"
      ]
     },
     "execution_count": 42,
     "metadata": {},
     "output_type": "execute_result"
    }
   ],
   "source": [
    "day_bikes_count.loc[('Subscriber', '2018-04-18')]"
   ]
  },
  {
   "cell_type": "code",
   "execution_count": null,
   "id": "184112a1",
   "metadata": {},
   "outputs": [],
   "source": []
  }
 ],
 "metadata": {
  "kernelspec": {
   "display_name": "Python 3",
   "language": "python",
   "name": "python3"
  },
  "language_info": {
   "codemirror_mode": {
    "name": "ipython",
    "version": 3
   },
   "file_extension": ".py",
   "mimetype": "text/x-python",
   "name": "python",
   "nbconvert_exporter": "python",
   "pygments_lexer": "ipython3",
   "version": "3.8.8"
  }
 },
 "nbformat": 4,
 "nbformat_minor": 5
}
