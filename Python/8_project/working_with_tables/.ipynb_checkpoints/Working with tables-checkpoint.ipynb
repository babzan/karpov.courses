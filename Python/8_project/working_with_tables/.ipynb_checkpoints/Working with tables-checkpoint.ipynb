{
 "cells": [
  {
   "cell_type": "code",
   "execution_count": 61,
   "id": "5b040282",
   "metadata": {},
   "outputs": [],
   "source": [
    "import pandas as pd\n",
    "import numpy as np\n",
    "import math\n",
    "from matplotlib import pyplot as plt\n",
    "import seaborn as sns\n",
    "\n",
    "%matplotlib inline"
   ]
  },
  {
   "cell_type": "code",
   "execution_count": 63,
   "id": "1139accf",
   "metadata": {},
   "outputs": [],
   "source": [
    "pokemon = pd.read_csv('Pokemon.csv')"
   ]
  },
  {
   "cell_type": "code",
   "execution_count": 64,
   "id": "a03408cc",
   "metadata": {},
   "outputs": [],
   "source": [
    "pokemon.rename(columns=lambda x: x.replace('. ', '_').replace(' ', '_').lower(), inplace=True)\n",
    "\n",
    "pokemon.rename(columns={'#' : 'id'}, inplace=True)\n",
    "\n",
    "legends = pokemon.groupby('generation').legendary.value_counts().to_frame()"
   ]
  },
  {
   "cell_type": "code",
   "execution_count": 74,
   "id": "1b506ffa",
   "metadata": {},
   "outputs": [],
   "source": [
    "legends_unstack = legends.rename(columns={'legendary' : 'legendary_count'}).unstack(level=1)"
   ]
  },
  {
   "cell_type": "code",
   "execution_count": 83,
   "id": "d8d0238e",
   "metadata": {},
   "outputs": [
    {
     "data": {
      "text/plain": [
       "legendary\n",
       "False     (1, Water)\n",
       "True     (3, Dragon)\n",
       "dtype: object"
      ]
     },
     "execution_count": 83,
     "metadata": {},
     "output_type": "execute_result"
    }
   ],
   "source": [
    "pokemon.groupby(['generation', 'type_1']).legendary.value_counts().unstack().idxmax()"
   ]
  },
  {
   "cell_type": "code",
   "execution_count": 84,
   "id": "4008de0c",
   "metadata": {},
   "outputs": [],
   "source": [
    "superheroes = pd.read_csv('superheroes_power_matrix.csv')"
   ]
  },
  {
   "cell_type": "code",
   "execution_count": 90,
   "id": "e74955ba",
   "metadata": {},
   "outputs": [],
   "source": [
    "superheroes_long = superheroes.melt(id_vars=['Name'], var_name='superpower')\n",
    "superheroes_powers = superheroes_long.query('value == True')\\\n",
    "                        .groupby('Name')\\\n",
    "                        .superpower\\\n",
    "                        .apply(list)\\\n",
    "                        .to_frame()\\\n",
    "                        .reset_index()"
   ]
  },
  {
   "cell_type": "code",
   "execution_count": 91,
   "id": "983a4bc2",
   "metadata": {},
   "outputs": [
    {
     "data": {
      "text/plain": [
       "(667, 2)"
      ]
     },
     "execution_count": 91,
     "metadata": {},
     "output_type": "execute_result"
    }
   ],
   "source": [
    "superheroes_powers.shape"
   ]
  },
  {
   "cell_type": "code",
   "execution_count": null,
   "id": "62be9151",
   "metadata": {},
   "outputs": [],
   "source": []
  }
 ],
 "metadata": {
  "kernelspec": {
   "display_name": "Python 3",
   "language": "python",
   "name": "python3"
  },
  "language_info": {
   "codemirror_mode": {
    "name": "ipython",
    "version": 3
   },
   "file_extension": ".py",
   "mimetype": "text/x-python",
   "name": "python",
   "nbconvert_exporter": "python",
   "pygments_lexer": "ipython3",
   "version": "3.8.8"
  }
 },
 "nbformat": 4,
 "nbformat_minor": 5
}
