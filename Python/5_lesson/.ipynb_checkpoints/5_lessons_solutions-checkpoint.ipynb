{
 "cells": [
  {
   "cell_type": "code",
   "execution_count": 141,
   "id": "03b6f27f",
   "metadata": {},
   "outputs": [],
   "source": [
    "import pandas as pd"
   ]
  },
  {
   "cell_type": "code",
   "execution_count": 142,
   "id": "4fce4269",
   "metadata": {},
   "outputs": [],
   "source": [
    "df = pd.read_csv('data.csv', encoding='ISO-8859-1')"
   ]
  },
  {
   "cell_type": "code",
   "execution_count": 143,
   "id": "51660d01",
   "metadata": {},
   "outputs": [],
   "source": [
    "# How many duplicates we have?\n",
    "# Delete duplicates"
   ]
  },
  {
   "cell_type": "code",
   "execution_count": 144,
   "id": "04bff900",
   "metadata": {},
   "outputs": [
    {
     "data": {
      "text/plain": [
       "(5268, 8)"
      ]
     },
     "execution_count": 144,
     "metadata": {},
     "output_type": "execute_result"
    }
   ],
   "source": [
    "df.loc[df.duplicated()].shape"
   ]
  },
  {
   "cell_type": "code",
   "execution_count": 145,
   "id": "59c16698",
   "metadata": {},
   "outputs": [],
   "source": [
    "df.drop_duplicates(inplace=True)"
   ]
  },
  {
   "cell_type": "code",
   "execution_count": 146,
   "id": "94e4d86a",
   "metadata": {},
   "outputs": [],
   "source": [
    "# Count how many orders canceled"
   ]
  },
  {
   "cell_type": "code",
   "execution_count": 147,
   "id": "804e5f5e",
   "metadata": {},
   "outputs": [],
   "source": [
    "new_df = df['InvoiceNo'].str.startswith('C').sum()"
   ]
  },
  {
   "cell_type": "code",
   "execution_count": null,
   "id": "a8e2fe29",
   "metadata": {},
   "outputs": [],
   "source": []
  },
  {
   "cell_type": "code",
   "execution_count": 148,
   "id": "c3c607e6",
   "metadata": {},
   "outputs": [
    {
     "data": {
      "text/plain": [
       "526054"
      ]
     },
     "execution_count": 148,
     "metadata": {},
     "output_type": "execute_result"
    }
   ],
   "source": [
    "df.query('Quantity > 0').shape[0]"
   ]
  },
  {
   "cell_type": "code",
   "execution_count": 149,
   "id": "f8217cb9",
   "metadata": {},
   "outputs": [],
   "source": [
    "df_germany = df[df['Country'] == 'Germany']"
   ]
  },
  {
   "cell_type": "code",
   "execution_count": 150,
   "id": "32f6addc",
   "metadata": {},
   "outputs": [],
   "source": [
    "df_germany = df_germany.groupby('CustomerID', as_index=False).agg({'InvoiceNo' : pd.Series.nunique})"
   ]
  },
  {
   "cell_type": "code",
   "execution_count": 151,
   "id": "4f53105b",
   "metadata": {},
   "outputs": [],
   "source": [
    "quant = df_germany.quantile(q=0.8)"
   ]
  },
  {
   "cell_type": "code",
   "execution_count": 152,
   "id": "6748e4d3",
   "metadata": {},
   "outputs": [],
   "source": [
    "germany_top = df_germany.query('InvoiceNo > @quant.InvoiceNo')"
   ]
  },
  {
   "cell_type": "code",
   "execution_count": null,
   "id": "5481ea5b",
   "metadata": {},
   "outputs": [],
   "source": []
  },
  {
   "cell_type": "code",
   "execution_count": 153,
   "id": "5e656db1",
   "metadata": {},
   "outputs": [],
   "source": [
    "top_retail_germany = df.query('CustomerID in @germany_top.CustomerID')"
   ]
  },
  {
   "cell_type": "code",
   "execution_count": 154,
   "id": "54ecbf32",
   "metadata": {},
   "outputs": [
    {
     "data": {
      "text/html": [
       "<div>\n",
       "<style scoped>\n",
       "    .dataframe tbody tr th:only-of-type {\n",
       "        vertical-align: middle;\n",
       "    }\n",
       "\n",
       "    .dataframe tbody tr th {\n",
       "        vertical-align: top;\n",
       "    }\n",
       "\n",
       "    .dataframe thead th {\n",
       "        text-align: right;\n",
       "    }\n",
       "</style>\n",
       "<table border=\"1\" class=\"dataframe\">\n",
       "  <thead>\n",
       "    <tr style=\"text-align: right;\">\n",
       "      <th></th>\n",
       "      <th>StockCode</th>\n",
       "      <th>InvoiceNo</th>\n",
       "    </tr>\n",
       "  </thead>\n",
       "  <tbody>\n",
       "    <tr>\n",
       "      <th>508</th>\n",
       "      <td>22548</td>\n",
       "      <td>1</td>\n",
       "    </tr>\n",
       "    <tr>\n",
       "      <th>711</th>\n",
       "      <td>22948</td>\n",
       "      <td>1</td>\n",
       "    </tr>\n",
       "    <tr>\n",
       "      <th>1108</th>\n",
       "      <td>84800L</td>\n",
       "      <td>1</td>\n",
       "    </tr>\n",
       "    <tr>\n",
       "      <th>713</th>\n",
       "      <td>22956</td>\n",
       "      <td>1</td>\n",
       "    </tr>\n",
       "    <tr>\n",
       "      <th>353</th>\n",
       "      <td>22174</td>\n",
       "      <td>1</td>\n",
       "    </tr>\n",
       "    <tr>\n",
       "      <th>...</th>\n",
       "      <td>...</td>\n",
       "      <td>...</td>\n",
       "    </tr>\n",
       "    <tr>\n",
       "      <th>474</th>\n",
       "      <td>22467</td>\n",
       "      <td>37</td>\n",
       "    </tr>\n",
       "    <tr>\n",
       "      <th>411</th>\n",
       "      <td>22328</td>\n",
       "      <td>45</td>\n",
       "    </tr>\n",
       "    <tr>\n",
       "      <th>452</th>\n",
       "      <td>22423</td>\n",
       "      <td>55</td>\n",
       "    </tr>\n",
       "    <tr>\n",
       "      <th>409</th>\n",
       "      <td>22326</td>\n",
       "      <td>62</td>\n",
       "    </tr>\n",
       "    <tr>\n",
       "      <th>1167</th>\n",
       "      <td>POST</td>\n",
       "      <td>219</td>\n",
       "    </tr>\n",
       "  </tbody>\n",
       "</table>\n",
       "<p>1168 rows × 2 columns</p>\n",
       "</div>"
      ],
      "text/plain": [
       "     StockCode  InvoiceNo\n",
       "508      22548          1\n",
       "711      22948          1\n",
       "1108    84800L          1\n",
       "713      22956          1\n",
       "353      22174          1\n",
       "...        ...        ...\n",
       "474      22467         37\n",
       "411      22328         45\n",
       "452      22423         55\n",
       "409      22326         62\n",
       "1167      POST        219\n",
       "\n",
       "[1168 rows x 2 columns]"
      ]
     },
     "execution_count": 154,
     "metadata": {},
     "output_type": "execute_result"
    }
   ],
   "source": [
    "top_retail_germany.groupby('StockCode', as_index=False).agg({'InvoiceNo' : 'count'}).sort_values('InvoiceNo')"
   ]
  },
  {
   "cell_type": "code",
   "execution_count": 155,
   "id": "378b9042",
   "metadata": {},
   "outputs": [],
   "source": [
    "df['Revenue'] = df['Quantity'] * df['UnitPrice']"
   ]
  },
  {
   "cell_type": "code",
   "execution_count": 156,
   "id": "a183a530",
   "metadata": {},
   "outputs": [],
   "source": [
    "lol = df.groupby('InvoiceNo', as_index=False).agg({'Revenue' : 'sum'}).sort_values('Revenue')"
   ]
  },
  {
   "cell_type": "code",
   "execution_count": 157,
   "id": "73c6e28c",
   "metadata": {},
   "outputs": [
    {
     "data": {
      "text/plain": [
       "['581483', '541431', '574941', '576365', '556444']"
      ]
     },
     "execution_count": 157,
     "metadata": {},
     "output_type": "execute_result"
    }
   ],
   "source": [
    "list(lol[-1:-6:-1].InvoiceNo)"
   ]
  },
  {
   "cell_type": "code",
   "execution_count": null,
   "id": "15240ba0",
   "metadata": {},
   "outputs": [],
   "source": []
  },
  {
   "cell_type": "code",
   "execution_count": null,
   "id": "d69e1ef9",
   "metadata": {},
   "outputs": [],
   "source": []
  }
 ],
 "metadata": {
  "kernelspec": {
   "display_name": "Python 3",
   "language": "python",
   "name": "python3"
  },
  "language_info": {
   "codemirror_mode": {
    "name": "ipython",
    "version": 3
   },
   "file_extension": ".py",
   "mimetype": "text/x-python",
   "name": "python",
   "nbconvert_exporter": "python",
   "pygments_lexer": "ipython3",
   "version": "3.8.8"
  }
 },
 "nbformat": 4,
 "nbformat_minor": 5
}
