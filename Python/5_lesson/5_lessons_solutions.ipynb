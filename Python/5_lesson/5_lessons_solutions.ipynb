{
 "cells": [
  {
   "cell_type": "code",
   "execution_count": 1,
   "id": "3dc8f790",
   "metadata": {},
   "outputs": [],
   "source": [
    "import pandas as pd"
   ]
  },
  {
   "cell_type": "code",
   "execution_count": 3,
   "id": "cf089af2",
   "metadata": {},
   "outputs": [],
   "source": [
    "df = pd.read_csv('data.csv', encoding='ISO-8859-1')"
   ]
  },
  {
   "cell_type": "code",
   "execution_count": 25,
   "id": "90ef71ea",
   "metadata": {},
   "outputs": [],
   "source": [
    "# How many duplicates we have?\n",
    "# Delete duplicates"
   ]
  },
  {
   "cell_type": "code",
   "execution_count": 26,
   "id": "bffeb168",
   "metadata": {},
   "outputs": [
    {
     "data": {
      "text/plain": [
       "(0, 8)"
      ]
     },
     "execution_count": 26,
     "metadata": {},
     "output_type": "execute_result"
    }
   ],
   "source": [
    "df.loc[df.duplicated()].shape"
   ]
  },
  {
   "cell_type": "code",
   "execution_count": 27,
   "id": "4a54a0b5",
   "metadata": {},
   "outputs": [],
   "source": [
    "df.drop_duplicates(inplace=True)"
   ]
  },
  {
   "cell_type": "code",
   "execution_count": 28,
   "id": "30f3cd3d",
   "metadata": {},
   "outputs": [],
   "source": [
    "# Count how many orders canceled"
   ]
  },
  {
   "cell_type": "code",
   "execution_count": 31,
   "id": "73f9a3d2",
   "metadata": {},
   "outputs": [],
   "source": [
    "new_df = df['InvoiceNo'].str.startswith('C').sum()"
   ]
  },
  {
   "cell_type": "code",
   "execution_count": null,
   "id": "03d5efcd",
   "metadata": {},
   "outputs": [],
   "source": []
  },
  {
   "cell_type": "code",
   "execution_count": 33,
   "id": "8d0d8353",
   "metadata": {},
   "outputs": [
    {
     "data": {
      "text/plain": [
       "526054"
      ]
     },
     "execution_count": 33,
     "metadata": {},
     "output_type": "execute_result"
    }
   ],
   "source": [
    "df.query('Quantity > 0').shape[0]"
   ]
  },
  {
   "cell_type": "code",
   "execution_count": null,
   "id": "5fd59df8",
   "metadata": {},
   "outputs": [],
   "source": []
  }
 ],
 "metadata": {
  "kernelspec": {
   "display_name": "Python 3",
   "language": "python",
   "name": "python3"
  },
  "language_info": {
   "codemirror_mode": {
    "name": "ipython",
    "version": 3
   },
   "file_extension": ".py",
   "mimetype": "text/x-python",
   "name": "python",
   "nbconvert_exporter": "python",
   "pygments_lexer": "ipython3",
   "version": "3.8.8"
  }
 },
 "nbformat": 4,
 "nbformat_minor": 5
}
