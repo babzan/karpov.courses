{
 "cells": [
  {
   "cell_type": "markdown",
   "id": "8bff37a3",
   "metadata": {},
   "source": [
    "# Introduction to Pandas project"
   ]
  },
  {
   "cell_type": "code",
   "execution_count": 1,
   "id": "9a05a500",
   "metadata": {},
   "outputs": [],
   "source": [
    "import pandas as pd"
   ]
  },
  {
   "cell_type": "code",
   "execution_count": 4,
   "id": "f96b08a8",
   "metadata": {},
   "outputs": [],
   "source": [
    "path_to_file = 'bookings.csv'\n",
    "bookings = pd.read_csv(path_to_file, sep=';')\n",
    "bookings_head = bookings.head(7)"
   ]
  },
  {
   "cell_type": "code",
   "execution_count": 226,
   "id": "44ec16bc",
   "metadata": {},
   "outputs": [
    {
     "data": {
      "text/plain": [
       "(119390, 23)"
      ]
     },
     "execution_count": 226,
     "metadata": {},
     "output_type": "execute_result"
    }
   ],
   "source": [
    "bookings.shape"
   ]
  },
  {
   "cell_type": "code",
   "execution_count": 7,
   "id": "bbc3f04f",
   "metadata": {},
   "outputs": [
    {
     "data": {
      "text/plain": [
       "Hotel                         object\n",
       "Is Canceled                    int64\n",
       "Lead Time                      int64\n",
       "arrival full date             object\n",
       "Arrival Date Year              int64\n",
       "Arrival Date Month            object\n",
       "Arrival Date Week Number       int64\n",
       "Arrival Date Day of Month      int64\n",
       "Stays in Weekend nights        int64\n",
       "Stays in week nights           int64\n",
       "stays total nights             int64\n",
       "Adults                         int64\n",
       "Children                     float64\n",
       "Babies                         int64\n",
       "Meal                          object\n",
       "Country                       object\n",
       "Reserved Room Type            object\n",
       "Assigned room type            object\n",
       "customer type                 object\n",
       "Reservation Status            object\n",
       "Reservation status_date       object\n",
       "dtype: object"
      ]
     },
     "execution_count": 7,
     "metadata": {},
     "output_type": "execute_result"
    }
   ],
   "source": [
    "bookings.dtypes"
   ]
  },
  {
   "cell_type": "markdown",
   "id": "9fdff75e",
   "metadata": {},
   "source": [
    "### Create a function to changing incorrect column names to correct."
   ]
  },
  {
   "cell_type": "code",
   "execution_count": 15,
   "id": "05c396e3",
   "metadata": {},
   "outputs": [],
   "source": [
    "def change_column_names(name):\n",
    "    name = name.replace(' ', '_').lower()\n",
    "    return name\n",
    "\n",
    "bookings = bookings.rename(columns=change_column_names)"
   ]
  },
  {
   "cell_type": "code",
   "execution_count": 32,
   "id": "c196f37a",
   "metadata": {},
   "outputs": [],
   "source": [
    "bookings_with_no_cancel = bookings[bookings['is_canceled'] == 0]"
   ]
  },
  {
   "cell_type": "code",
   "execution_count": 37,
   "id": "89a2c7d2",
   "metadata": {},
   "outputs": [
    {
     "data": {
      "text/plain": [
       "country\n",
       "PRT    21071\n",
       "GBR     9676\n",
       "FRA     8481\n",
       "ESP     6391\n",
       "DEU     6069\n",
       "dtype: int64"
      ]
     },
     "execution_count": 37,
     "metadata": {},
     "output_type": "execute_result"
    }
   ],
   "source": [
    "# Count top-5 countries with no cancellation after reservation\n",
    "bookings_with_no_cancel.value_counts('country').sort_values(ascending=False).head(5)"
   ]
  },
  {
   "cell_type": "markdown",
   "id": "4e40529d",
   "metadata": {},
   "source": [
    "### Mean nights of staying at City Hotel and Resort Hotel"
   ]
  },
  {
   "cell_type": "code",
   "execution_count": 40,
   "id": "3bd64342",
   "metadata": {},
   "outputs": [],
   "source": [
    "city_hotel = bookings.groupby('hotel').agg({'stays_total_nights' : 'mean'})"
   ]
  },
  {
   "cell_type": "code",
   "execution_count": 42,
   "id": "e314dddb",
   "metadata": {},
   "outputs": [
    {
     "data": {
      "text/html": [
       "<div>\n",
       "<style scoped>\n",
       "    .dataframe tbody tr th:only-of-type {\n",
       "        vertical-align: middle;\n",
       "    }\n",
       "\n",
       "    .dataframe tbody tr th {\n",
       "        vertical-align: top;\n",
       "    }\n",
       "\n",
       "    .dataframe thead th {\n",
       "        text-align: right;\n",
       "    }\n",
       "</style>\n",
       "<table border=\"1\" class=\"dataframe\">\n",
       "  <thead>\n",
       "    <tr style=\"text-align: right;\">\n",
       "      <th></th>\n",
       "      <th>stays_total_nights</th>\n",
       "    </tr>\n",
       "    <tr>\n",
       "      <th>hotel</th>\n",
       "      <th></th>\n",
       "    </tr>\n",
       "  </thead>\n",
       "  <tbody>\n",
       "    <tr>\n",
       "      <th>City Hotel</th>\n",
       "      <td>2.98</td>\n",
       "    </tr>\n",
       "    <tr>\n",
       "      <th>Resort Hotel</th>\n",
       "      <td>4.32</td>\n",
       "    </tr>\n",
       "  </tbody>\n",
       "</table>\n",
       "</div>"
      ],
      "text/plain": [
       "              stays_total_nights\n",
       "hotel                           \n",
       "City Hotel                  2.98\n",
       "Resort Hotel                4.32"
      ]
     },
     "execution_count": 42,
     "metadata": {},
     "output_type": "execute_result"
    }
   ],
   "source": [
    "round(city_hotel, 2)"
   ]
  },
  {
   "cell_type": "markdown",
   "id": "3f2ec316",
   "metadata": {},
   "source": [
    "### Different rooms (on reservation and reality)"
   ]
  },
  {
   "cell_type": "code",
   "execution_count": 68,
   "id": "c6857b9d",
   "metadata": {},
   "outputs": [],
   "source": [
    "result = bookings[bookings['reserved_room_type'] != bookings['assigned_room_type']]"
   ]
  },
  {
   "cell_type": "code",
   "execution_count": 69,
   "id": "73c2916d",
   "metadata": {},
   "outputs": [
    {
     "data": {
      "text/plain": [
       "14917"
      ]
     },
     "execution_count": 69,
     "metadata": {},
     "output_type": "execute_result"
    }
   ],
   "source": [
    "len(result)"
   ]
  },
  {
   "cell_type": "markdown",
   "id": "cff55b21",
   "metadata": {},
   "source": [
    "### Most non canceled month in 2016 and 2017"
   ]
  },
  {
   "cell_type": "code",
   "execution_count": 230,
   "id": "c47b9e45",
   "metadata": {},
   "outputs": [],
   "source": [
    "year2016 = bookings.query('arrival_date_year == 2016')\n",
    "# year2016 = year.groupby('is_canceled' == 0).agg({'arrival_date_month' : 'sum'})\n",
    "year2016 = year2016[year2016['is_canceled'] == 0]"
   ]
  },
  {
   "cell_type": "code",
   "execution_count": 231,
   "id": "a5e7f737",
   "metadata": {},
   "outputs": [
    {
     "data": {
      "text/plain": [
       "arrival_date_month\n",
       "October      3689\n",
       "May          3563\n",
       "September    3372\n",
       "April        3367\n",
       "March        3347\n",
       "August       3238\n",
       "June         3196\n",
       "July         3073\n",
       "November     2818\n",
       "February     2554\n",
       "December     2462\n",
       "January      1691\n",
       "dtype: int64"
      ]
     },
     "execution_count": 231,
     "metadata": {},
     "output_type": "execute_result"
    }
   ],
   "source": [
    "year2016.value_counts('arrival_date_month').sort_values(ascending=False)"
   ]
  },
  {
   "cell_type": "code",
   "execution_count": 232,
   "id": "5c28668f",
   "metadata": {},
   "outputs": [],
   "source": [
    "year2017 = bookings.query('arrival_date_year == 2017')\n",
    "year2017 = year2017[year2017['is_canceled'] == 0]"
   ]
  },
  {
   "cell_type": "code",
   "execution_count": 233,
   "id": "4e58e526",
   "metadata": {},
   "outputs": [
    {
     "data": {
      "text/plain": [
       "arrival_date_month\n",
       "May         3551\n",
       "July        3329\n",
       "March       3298\n",
       "June        3208\n",
       "April       3198\n",
       "August      3109\n",
       "February    2818\n",
       "January     2431\n",
       "dtype: int64"
      ]
     },
     "execution_count": 233,
     "metadata": {},
     "output_type": "execute_result"
    }
   ],
   "source": [
    "year2017.value_counts('arrival_date_month').sort_values(ascending=False)"
   ]
  },
  {
   "cell_type": "markdown",
   "id": "092b788a",
   "metadata": {},
   "source": [
    "### Cancellations sorted by months in 2015/16/17 years"
   ]
  },
  {
   "cell_type": "code",
   "execution_count": 234,
   "id": "c3ae15cf",
   "metadata": {},
   "outputs": [],
   "source": [
    "canceled_books = bookings.query('hotel == \"City Hotel\" & is_canceled == 1')"
   ]
  },
  {
   "cell_type": "code",
   "execution_count": 235,
   "id": "619f3d8c",
   "metadata": {},
   "outputs": [
    {
     "data": {
      "text/plain": [
       "arrival_date_year  arrival_date_month\n",
       "2015               September             1543\n",
       "                   October               1321\n",
       "                   August                1232\n",
       "                   July                   939\n",
       "                   December               668\n",
       "                   November               301\n",
       "2016               October               1947\n",
       "                   June                  1720\n",
       "                   September             1567\n",
       "                   April                 1539\n",
       "                   May                   1436\n",
       "                   November              1360\n",
       "                   August                1247\n",
       "                   March                 1108\n",
       "                   December              1072\n",
       "                   July                  1043\n",
       "                   February               930\n",
       "                   January                438\n",
       "2017               May                   2217\n",
       "                   April                 1926\n",
       "                   June                  1808\n",
       "                   July                  1324\n",
       "                   March                 1278\n",
       "                   August                1123\n",
       "                   January               1044\n",
       "                   February               971\n",
       "Name: arrival_date_month, dtype: int64"
      ]
     },
     "execution_count": 235,
     "metadata": {},
     "output_type": "execute_result"
    }
   ],
   "source": [
    "canceled_books.groupby('arrival_date_year')['arrival_date_month'].value_counts()"
   ]
  },
  {
   "cell_type": "code",
   "execution_count": 236,
   "id": "ab617507",
   "metadata": {},
   "outputs": [
    {
     "name": "stdout",
     "output_type": "stream",
     "text": [
      "1.8564033838679956 0.10388990333874994 0.007948739425412514\n"
     ]
    }
   ],
   "source": [
    "print(bookings['adults'].mean(), bookings['children'].mean(), bookings['babies'].mean())"
   ]
  },
  {
   "cell_type": "code",
   "execution_count": 237,
   "id": "5c2805df",
   "metadata": {},
   "outputs": [],
   "source": [
    "bookings['total_kids'] = bookings['children'] + bookings['babies']"
   ]
  },
  {
   "cell_type": "code",
   "execution_count": 238,
   "id": "7a5844bf",
   "metadata": {},
   "outputs": [
    {
     "data": {
      "text/plain": [
       "total_kids    0.14\n",
       "dtype: float64"
      ]
     },
     "execution_count": 238,
     "metadata": {},
     "output_type": "execute_result"
    }
   ],
   "source": [
    "round(bookings.groupby('hotel').agg({'total_kids': 'mean'}), 2).max()"
   ]
  },
  {
   "cell_type": "code",
   "execution_count": 239,
   "id": "5d555af5",
   "metadata": {},
   "outputs": [],
   "source": [
    "bookings['has_kids'] = 0"
   ]
  },
  {
   "cell_type": "code",
   "execution_count": 240,
   "id": "d048798c",
   "metadata": {},
   "outputs": [],
   "source": [
    "vals = []\n",
    "for i in range(len(bookings)):\n",
    "    if bookings['total_kids'][i] > 0:\n",
    "        vals.append(True)\n",
    "    else:\n",
    "        vals.append(False)"
   ]
  },
  {
   "cell_type": "code",
   "execution_count": 245,
   "id": "17722a68",
   "metadata": {},
   "outputs": [],
   "source": [
    "bookings['has_kids'] = vals"
   ]
  },
  {
   "cell_type": "markdown",
   "id": "d4945818",
   "metadata": {},
   "source": [
    "### Churn rate of families with kids and without"
   ]
  },
  {
   "cell_type": "code",
   "execution_count": 242,
   "id": "0e003623",
   "metadata": {},
   "outputs": [],
   "source": [
    "total_table = bookings"
   ]
  },
  {
   "cell_type": "code",
   "execution_count": 243,
   "id": "14517b8a",
   "metadata": {},
   "outputs": [],
   "source": [
    "without_kids = total_table['has_kids'].value_counts()[0]\n",
    "with_kids = total_table['has_kids'].value_counts()[1]"
   ]
  },
  {
   "cell_type": "code",
   "execution_count": 244,
   "id": "ab3ffbdf",
   "metadata": {},
   "outputs": [
    {
     "name": "stdout",
     "output_type": "stream",
     "text": [
      "37.221283323338604\n",
      "34.92284612087441\n"
     ]
    }
   ],
   "source": [
    "print(len(total_table.query('is_canceled == 1 & has_kids == False')) / without_kids * 100)\n",
    "print(len(total_table.query('is_canceled == 1 & has_kids == True')) / with_kids * 100)"
   ]
  },
  {
   "cell_type": "code",
   "execution_count": null,
   "id": "1c4eae4a",
   "metadata": {},
   "outputs": [],
   "source": []
  }
 ],
 "metadata": {
  "kernelspec": {
   "display_name": "Python 3",
   "language": "python",
   "name": "python3"
  },
  "language_info": {
   "codemirror_mode": {
    "name": "ipython",
    "version": 3
   },
   "file_extension": ".py",
   "mimetype": "text/x-python",
   "name": "python",
   "nbconvert_exporter": "python",
   "pygments_lexer": "ipython3",
   "version": "3.8.8"
  }
 },
 "nbformat": 4,
 "nbformat_minor": 5
}
