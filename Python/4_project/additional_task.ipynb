{
 "cells": [
  {
   "cell_type": "code",
   "execution_count": 1,
   "id": "54ce16cc",
   "metadata": {},
   "outputs": [],
   "source": [
    "import pandas as pd\n",
    "import seaborn as sns\n",
    "from matplotlib import pyplot as plt\n",
    "import datetime as dt\n",
    "\n",
    "%matplotlib inline"
   ]
  },
  {
   "cell_type": "code",
   "execution_count": 8,
   "id": "3fac36f7",
   "metadata": {},
   "outputs": [],
   "source": [
    "df_1 = pd.read_excel('4_inn.xls')\n",
    "df_2 = pd.read_csv('4_necessary_inn.txt', header=None)\n"
   ]
  },
  {
   "cell_type": "code",
   "execution_count": 14,
   "id": "3216440c",
   "metadata": {},
   "outputs": [],
   "source": [
    "df_2 = df_2.rename(columns={0 : 'innn'})"
   ]
  },
  {
   "cell_type": "code",
   "execution_count": 29,
   "id": "67fafad3",
   "metadata": {},
   "outputs": [],
   "source": [
    "val = list(df_2['innn'])"
   ]
  },
  {
   "cell_type": "code",
   "execution_count": 31,
   "id": "8a32b0ff",
   "metadata": {},
   "outputs": [],
   "source": [
    "res = df_1.query('head_inn in @val')"
   ]
  },
  {
   "cell_type": "code",
   "execution_count": 35,
   "id": "0d479012",
   "metadata": {},
   "outputs": [
    {
     "data": {
      "text/plain": [
       "6104522627393"
      ]
     },
     "execution_count": 35,
     "metadata": {},
     "output_type": "execute_result"
    }
   ],
   "source": [
    "sum(res['income,RUB'])\n",
    "# res.columns"
   ]
  },
  {
   "cell_type": "code",
   "execution_count": null,
   "id": "069ce1d3",
   "metadata": {},
   "outputs": [],
   "source": []
  }
 ],
 "metadata": {
  "kernelspec": {
   "display_name": "Python 3",
   "language": "python",
   "name": "python3"
  },
  "language_info": {
   "codemirror_mode": {
    "name": "ipython",
    "version": 3
   },
   "file_extension": ".py",
   "mimetype": "text/x-python",
   "name": "python",
   "nbconvert_exporter": "python",
   "pygments_lexer": "ipython3",
   "version": "3.8.8"
  }
 },
 "nbformat": 4,
 "nbformat_minor": 5
}
